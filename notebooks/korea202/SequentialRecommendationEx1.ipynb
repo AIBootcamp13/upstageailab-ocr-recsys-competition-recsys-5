{
  "nbformat": 4,
  "nbformat_minor": 0,
  "metadata": {
    "colab": {
      "provenance": [],
      "gpuType": "T4",
      "toc_visible": true
    },
    "kernelspec": {
      "name": "python3",
      "display_name": "Python 3"
    },
    "language_info": {
      "name": "python"
    },
    "accelerator": "GPU"
  },
  "cells": [
    {
      "cell_type": "markdown",
      "source": [
        "# (2-10) Sequential Recommendation 실습 (상)"
      ],
      "metadata": {
        "id": "ZkR2vja0uPsu"
      }
    },
    {
      "cell_type": "markdown",
      "source": [
        "## 실습 개요\n",
        "\n",
        "1) 실습 목적\n",
        "\n",
        "GoodReads review 데이터셋을 활용하여 대표적인 Sequential Recommendation System인 SASRec 모델을 구현해 보겠습니다. GoodReads review 데이터는 user id, rating, book id, review, timestamp 등 다양한 column들을 포함하는데, 이번 실습에서는 user id, book id, timestamp column만을 활용하여 sequential recommendation에 필요한 user sequence 데이터를 만들어 봅니다.\n",
        "실제 사용자 데이터에 sequential recommendation 모델을 적용해 보는 경험을 통해 실제 추천시스템 환경에서 사용자 맞춤형 추천이 어떻게 이루어지는지 경험해보실 수 있습니다.\n",
        "\n",
        "2) 수강 목표\n",
        "\n",
        "- 목표 1: GoodReads 리뷰 데이터셋의 user id, book id, timestamp 컬럼을 이용하여 사용자 시퀀스 데이터를 만드는 과정을 경험하고, 데이터 전처리와 시퀀스 데이터 구성의 기본 원칙을 배웁니다.\n",
        "- 목표 2: SASRec 모델을 PyTorch로 직접 경험해 보는 경험을 통해 Sequential Recommendation System의 구현 방법을 실습합니다.\n",
        "- 목표 3: SASRec 모델의 아키텍처와 작동 원리를 깊이 있게 이해합니다.\n",
        "- 목표 4: 실제 사용자 데이터에 SASRec 모델을 적용해보며, 사용자 개인화 추천이 실제 추천 시스템 환경에서 어떻게 이루어지는지 경험합니다.\n"
      ],
      "metadata": {
        "id": "a1_bHPYNuviX"
      }
    },
    {
      "cell_type": "markdown",
      "source": [
        "## 실습 목차\n",
        "\n",
        "* 1. Exploring Data\n",
        "* 2. Data Preprocessing\n",
        "* 3. SASRec Model\n",
        "  * 3-1. Batch Sampling\n",
        "  * 3-2. 모델 구현\n",
        "  * 3-3. Model Training\n",
        "  * 3-4. Model Evaluation\n",
        "* 4. 마치며"
      ],
      "metadata": {
        "id": "ix4DU7K2bXvN"
      }
    },
    {
      "cell_type": "markdown",
      "source": [
        "###  데이터셋 개요\n",
        "\n",
        "* 데이터셋: GoodReads\n",
        "* 데이터셋 개요: GoodReads 데이터셋은 사용자 리뷰와 함께 수많은 책에 대한 상세 정보를 포함하고 있어, 추천 알고리즘의 개발 및 검증에 사용됩니다. 주로 사용자별로 다양한 책에 대한 평점과 리뷰 정보를 제공합니다.\n",
        "* 데이터셋 저작권: GoodReads 데이터셋은 주로 교육 및 연구 목적으로 사용되며, 이용에 관한 자세한 저작권 정보는 GoodReads의 공식 웹사이트에서 확인할 수 있습니다.\n",
        "\n"
      ],
      "metadata": {
        "id": "qgl_NAXHbfVa"
      }
    },
    {
      "cell_type": "markdown",
      "source": [
        "### 환경 설정\n",
        "- 패키지 설치 및 임포트\n",
        "```\n",
        "import requests\n",
        "import gzip\n",
        "import json\n",
        "import re\n",
        "import os\n",
        "import sys\n",
        "import pandas as pd\n",
        "from collections import defaultdict\n",
        "import math\n",
        "import numpy as np\n",
        "from tqdm import tqdm\n",
        "import torch\n",
        "import torch.nn as nn\n",
        "import torch.nn.functional as F\n",
        "```\n"
      ],
      "metadata": {
        "id": "EKulQnK_bmlH"
      }
    },
    {
      "cell_type": "code",
      "source": [
        "# 라이브러리 임포트\n",
        "import gdown\n",
        "import requests\n",
        "import gzip\n",
        "import json\n",
        "import re\n",
        "import os\n",
        "import sys\n",
        "import pandas as pd\n",
        "from collections import defaultdict\n",
        "import math\n",
        "import numpy as np\n",
        "from tqdm import tqdm\n",
        "import torch\n",
        "import torch.nn as nn\n",
        "import torch.nn.functional as F"
      ],
      "metadata": {
        "id": "acIEQ9MJAbDy"
      },
      "execution_count": null,
      "outputs": []
    },
    {
      "cell_type": "markdown",
      "source": [
        "## 1. Exploring Data\n",
        "```\n",
        "💡 목차 개요 : GoodReads review 데이터셋을 다운로드하고, Pandas 라이브러리를 활용하여 데이터셋을 살펴봅니다.\n",
        "```"
      ],
      "metadata": {
        "id": "jE7mWiYEw0FE"
      }
    },
    {
      "cell_type": "markdown",
      "source": [
        "먼저 GoodReads review dataset을 다운로드합니다."
      ],
      "metadata": {
        "id": "_6UTztKdw3Z0"
      }
    },
    {
      "cell_type": "code",
      "source": [
        "file_id = \"1JO1Y3McBAPQuXHG1tezbk1n7_MnegA_1\"\n",
        "output = \"./goodreads_reviews_spoiler.json.gz\" # 저장 위치 및 저장할 파일 이름\n",
        "gdown.download(id=file_id, output=output, quiet=False)"
      ],
      "metadata": {
        "colab": {
          "base_uri": "https://localhost:8080/",
          "height": 105
        },
        "id": "xQ9oIPIi_rxO",
        "outputId": "9991a831-fa66-4e1f-ff16-0dc2eba9b753"
      },
      "execution_count": null,
      "outputs": [
        {
          "output_type": "stream",
          "name": "stderr",
          "text": [
            "Downloading...\n",
            "From: https://drive.google.com/uc?id=1JO1Y3McBAPQuXHG1tezbk1n7_MnegA_1\n",
            "To: /content/goodreads_reviews_spoiler.json.gz\n",
            "100%|██████████| 620M/620M [00:11<00:00, 53.1MB/s]\n"
          ]
        },
        {
          "output_type": "execute_result",
          "data": {
            "text/plain": [
              "'./goodreads_reviews_spoiler.json.gz'"
            ],
            "application/vnd.google.colaboratory.intrinsic+json": {
              "type": "string"
            }
          },
          "metadata": {},
          "execution_count": 2
        }
      ]
    },
    {
      "cell_type": "markdown",
      "source": [
        "다운로드 된 압축된 gzip 풀어 loading하는 load_data() 함수를 작성합니다."
      ],
      "metadata": {
        "id": "TCq41L8MxIdG"
      }
    },
    {
      "cell_type": "code",
      "source": [
        "def load_data(file_name):\n",
        "    count = 0\n",
        "    data = []\n",
        "    with gzip.open(file_name) as fin:\n",
        "        for l in fin:\n",
        "            d = json.loads(l)\n",
        "            count += 1\n",
        "            data.append(d)\n",
        "    return data"
      ],
      "metadata": {
        "id": "jcjN3cS5Q-00"
      },
      "execution_count": null,
      "outputs": []
    },
    {
      "cell_type": "markdown",
      "source": [
        "다운로드한 데이터를 review_data 변수에 로딩합니다."
      ],
      "metadata": {
        "id": "zQQgujBNTb9q"
      }
    },
    {
      "cell_type": "code",
      "source": [
        "review_data = load_data(output) # 약 1분 가량 소요됨"
      ],
      "metadata": {
        "id": "c7GGfviMSEgm"
      },
      "execution_count": null,
      "outputs": []
    },
    {
      "cell_type": "markdown",
      "source": [
        "Pandas DataFrame으로 저장한 후, 간단한 데이터셋 통계와 샘플을 출력해 봅니다. user_id, timestamp, review_sentences, rating, has_spoiler, book_id, review_id colum으로 이루어진 데이터셋임을 알 수 있습니다."
      ],
      "metadata": {
        "id": "CV5F20bnxhk2"
      }
    },
    {
      "cell_type": "code",
      "source": [
        "df = pd.DataFrame(review_data)\n",
        "df.info()\n",
        "df.head()"
      ],
      "metadata": {
        "id": "tgXut10yUuSu",
        "colab": {
          "base_uri": "https://localhost:8080/",
          "height": 449
        },
        "outputId": "1fb64f01-da3f-4975-e5fe-622c5e715552"
      },
      "execution_count": null,
      "outputs": [
        {
          "output_type": "stream",
          "name": "stdout",
          "text": [
            "<class 'pandas.core.frame.DataFrame'>\n",
            "RangeIndex: 1378033 entries, 0 to 1378032\n",
            "Data columns (total 7 columns):\n",
            " #   Column            Non-Null Count    Dtype \n",
            "---  ------            --------------    ----- \n",
            " 0   user_id           1378033 non-null  object\n",
            " 1   timestamp         1378033 non-null  object\n",
            " 2   review_sentences  1378033 non-null  object\n",
            " 3   rating            1378033 non-null  int64 \n",
            " 4   has_spoiler       1378033 non-null  bool  \n",
            " 5   book_id           1378033 non-null  object\n",
            " 6   review_id         1378033 non-null  object\n",
            "dtypes: bool(1), int64(1), object(5)\n",
            "memory usage: 64.4+ MB\n"
          ]
        },
        {
          "output_type": "execute_result",
          "data": {
            "text/plain": [
              "                            user_id   timestamp  \\\n",
              "0  8842281e1d1347389f2ab93d60773d4d  2017-08-30   \n",
              "1  8842281e1d1347389f2ab93d60773d4d  2017-03-22   \n",
              "2  8842281e1d1347389f2ab93d60773d4d  2017-03-20   \n",
              "3  8842281e1d1347389f2ab93d60773d4d  2016-11-09   \n",
              "4  8842281e1d1347389f2ab93d60773d4d  2016-04-25   \n",
              "\n",
              "                                    review_sentences  rating  has_spoiler  \\\n",
              "0  [[0, This is a special book.], [0, It started ...       5         True   \n",
              "1  [[0, Recommended by Don Katz.], [0, Avail for ...       3        False   \n",
              "2  [[0, A fun, fast paced science fiction thrille...       3         True   \n",
              "3  [[0, Recommended reading to understand what is...       0        False   \n",
              "4  [[0, I really enjoyed this book, and there is ...       4         True   \n",
              "\n",
              "    book_id                         review_id  \n",
              "0  18245960  dfdbb7b0eb5a7e4c26d59a937e2e5feb  \n",
              "1     16981  a5d2c3628987712d0e05c4f90798eb67  \n",
              "2  28684704  2ede853b14dc4583f96cf5d120af636f  \n",
              "3  27161156  ced5675e55cd9d38a524743f5c40996e  \n",
              "4  25884323  332732725863131279a8e345b63ac33e  "
            ],
            "text/html": [
              "\n",
              "  <div id=\"df-fe775000-2725-46f7-b989-e76513e01527\" class=\"colab-df-container\">\n",
              "    <div>\n",
              "<style scoped>\n",
              "    .dataframe tbody tr th:only-of-type {\n",
              "        vertical-align: middle;\n",
              "    }\n",
              "\n",
              "    .dataframe tbody tr th {\n",
              "        vertical-align: top;\n",
              "    }\n",
              "\n",
              "    .dataframe thead th {\n",
              "        text-align: right;\n",
              "    }\n",
              "</style>\n",
              "<table border=\"1\" class=\"dataframe\">\n",
              "  <thead>\n",
              "    <tr style=\"text-align: right;\">\n",
              "      <th></th>\n",
              "      <th>user_id</th>\n",
              "      <th>timestamp</th>\n",
              "      <th>review_sentences</th>\n",
              "      <th>rating</th>\n",
              "      <th>has_spoiler</th>\n",
              "      <th>book_id</th>\n",
              "      <th>review_id</th>\n",
              "    </tr>\n",
              "  </thead>\n",
              "  <tbody>\n",
              "    <tr>\n",
              "      <th>0</th>\n",
              "      <td>8842281e1d1347389f2ab93d60773d4d</td>\n",
              "      <td>2017-08-30</td>\n",
              "      <td>[[0, This is a special book.], [0, It started ...</td>\n",
              "      <td>5</td>\n",
              "      <td>True</td>\n",
              "      <td>18245960</td>\n",
              "      <td>dfdbb7b0eb5a7e4c26d59a937e2e5feb</td>\n",
              "    </tr>\n",
              "    <tr>\n",
              "      <th>1</th>\n",
              "      <td>8842281e1d1347389f2ab93d60773d4d</td>\n",
              "      <td>2017-03-22</td>\n",
              "      <td>[[0, Recommended by Don Katz.], [0, Avail for ...</td>\n",
              "      <td>3</td>\n",
              "      <td>False</td>\n",
              "      <td>16981</td>\n",
              "      <td>a5d2c3628987712d0e05c4f90798eb67</td>\n",
              "    </tr>\n",
              "    <tr>\n",
              "      <th>2</th>\n",
              "      <td>8842281e1d1347389f2ab93d60773d4d</td>\n",
              "      <td>2017-03-20</td>\n",
              "      <td>[[0, A fun, fast paced science fiction thrille...</td>\n",
              "      <td>3</td>\n",
              "      <td>True</td>\n",
              "      <td>28684704</td>\n",
              "      <td>2ede853b14dc4583f96cf5d120af636f</td>\n",
              "    </tr>\n",
              "    <tr>\n",
              "      <th>3</th>\n",
              "      <td>8842281e1d1347389f2ab93d60773d4d</td>\n",
              "      <td>2016-11-09</td>\n",
              "      <td>[[0, Recommended reading to understand what is...</td>\n",
              "      <td>0</td>\n",
              "      <td>False</td>\n",
              "      <td>27161156</td>\n",
              "      <td>ced5675e55cd9d38a524743f5c40996e</td>\n",
              "    </tr>\n",
              "    <tr>\n",
              "      <th>4</th>\n",
              "      <td>8842281e1d1347389f2ab93d60773d4d</td>\n",
              "      <td>2016-04-25</td>\n",
              "      <td>[[0, I really enjoyed this book, and there is ...</td>\n",
              "      <td>4</td>\n",
              "      <td>True</td>\n",
              "      <td>25884323</td>\n",
              "      <td>332732725863131279a8e345b63ac33e</td>\n",
              "    </tr>\n",
              "  </tbody>\n",
              "</table>\n",
              "</div>\n",
              "    <div class=\"colab-df-buttons\">\n",
              "\n",
              "  <div class=\"colab-df-container\">\n",
              "    <button class=\"colab-df-convert\" onclick=\"convertToInteractive('df-fe775000-2725-46f7-b989-e76513e01527')\"\n",
              "            title=\"Convert this dataframe to an interactive table.\"\n",
              "            style=\"display:none;\">\n",
              "\n",
              "  <svg xmlns=\"http://www.w3.org/2000/svg\" height=\"24px\" viewBox=\"0 -960 960 960\">\n",
              "    <path d=\"M120-120v-720h720v720H120Zm60-500h600v-160H180v160Zm220 220h160v-160H400v160Zm0 220h160v-160H400v160ZM180-400h160v-160H180v160Zm440 0h160v-160H620v160ZM180-180h160v-160H180v160Zm440 0h160v-160H620v160Z\"/>\n",
              "  </svg>\n",
              "    </button>\n",
              "\n",
              "  <style>\n",
              "    .colab-df-container {\n",
              "      display:flex;\n",
              "      gap: 12px;\n",
              "    }\n",
              "\n",
              "    .colab-df-convert {\n",
              "      background-color: #E8F0FE;\n",
              "      border: none;\n",
              "      border-radius: 50%;\n",
              "      cursor: pointer;\n",
              "      display: none;\n",
              "      fill: #1967D2;\n",
              "      height: 32px;\n",
              "      padding: 0 0 0 0;\n",
              "      width: 32px;\n",
              "    }\n",
              "\n",
              "    .colab-df-convert:hover {\n",
              "      background-color: #E2EBFA;\n",
              "      box-shadow: 0px 1px 2px rgba(60, 64, 67, 0.3), 0px 1px 3px 1px rgba(60, 64, 67, 0.15);\n",
              "      fill: #174EA6;\n",
              "    }\n",
              "\n",
              "    .colab-df-buttons div {\n",
              "      margin-bottom: 4px;\n",
              "    }\n",
              "\n",
              "    [theme=dark] .colab-df-convert {\n",
              "      background-color: #3B4455;\n",
              "      fill: #D2E3FC;\n",
              "    }\n",
              "\n",
              "    [theme=dark] .colab-df-convert:hover {\n",
              "      background-color: #434B5C;\n",
              "      box-shadow: 0px 1px 3px 1px rgba(0, 0, 0, 0.15);\n",
              "      filter: drop-shadow(0px 1px 2px rgba(0, 0, 0, 0.3));\n",
              "      fill: #FFFFFF;\n",
              "    }\n",
              "  </style>\n",
              "\n",
              "    <script>\n",
              "      const buttonEl =\n",
              "        document.querySelector('#df-fe775000-2725-46f7-b989-e76513e01527 button.colab-df-convert');\n",
              "      buttonEl.style.display =\n",
              "        google.colab.kernel.accessAllowed ? 'block' : 'none';\n",
              "\n",
              "      async function convertToInteractive(key) {\n",
              "        const element = document.querySelector('#df-fe775000-2725-46f7-b989-e76513e01527');\n",
              "        const dataTable =\n",
              "          await google.colab.kernel.invokeFunction('convertToInteractive',\n",
              "                                                    [key], {});\n",
              "        if (!dataTable) return;\n",
              "\n",
              "        const docLinkHtml = 'Like what you see? Visit the ' +\n",
              "          '<a target=\"_blank\" href=https://colab.research.google.com/notebooks/data_table.ipynb>data table notebook</a>'\n",
              "          + ' to learn more about interactive tables.';\n",
              "        element.innerHTML = '';\n",
              "        dataTable['output_type'] = 'display_data';\n",
              "        await google.colab.output.renderOutput(dataTable, element);\n",
              "        const docLink = document.createElement('div');\n",
              "        docLink.innerHTML = docLinkHtml;\n",
              "        element.appendChild(docLink);\n",
              "      }\n",
              "    </script>\n",
              "  </div>\n",
              "\n",
              "\n",
              "<div id=\"df-d58cc935-e45a-484e-b625-8b241f01a712\">\n",
              "  <button class=\"colab-df-quickchart\" onclick=\"quickchart('df-d58cc935-e45a-484e-b625-8b241f01a712')\"\n",
              "            title=\"Suggest charts\"\n",
              "            style=\"display:none;\">\n",
              "\n",
              "<svg xmlns=\"http://www.w3.org/2000/svg\" height=\"24px\"viewBox=\"0 0 24 24\"\n",
              "     width=\"24px\">\n",
              "    <g>\n",
              "        <path d=\"M19 3H5c-1.1 0-2 .9-2 2v14c0 1.1.9 2 2 2h14c1.1 0 2-.9 2-2V5c0-1.1-.9-2-2-2zM9 17H7v-7h2v7zm4 0h-2V7h2v10zm4 0h-2v-4h2v4z\"/>\n",
              "    </g>\n",
              "</svg>\n",
              "  </button>\n",
              "\n",
              "<style>\n",
              "  .colab-df-quickchart {\n",
              "      --bg-color: #E8F0FE;\n",
              "      --fill-color: #1967D2;\n",
              "      --hover-bg-color: #E2EBFA;\n",
              "      --hover-fill-color: #174EA6;\n",
              "      --disabled-fill-color: #AAA;\n",
              "      --disabled-bg-color: #DDD;\n",
              "  }\n",
              "\n",
              "  [theme=dark] .colab-df-quickchart {\n",
              "      --bg-color: #3B4455;\n",
              "      --fill-color: #D2E3FC;\n",
              "      --hover-bg-color: #434B5C;\n",
              "      --hover-fill-color: #FFFFFF;\n",
              "      --disabled-bg-color: #3B4455;\n",
              "      --disabled-fill-color: #666;\n",
              "  }\n",
              "\n",
              "  .colab-df-quickchart {\n",
              "    background-color: var(--bg-color);\n",
              "    border: none;\n",
              "    border-radius: 50%;\n",
              "    cursor: pointer;\n",
              "    display: none;\n",
              "    fill: var(--fill-color);\n",
              "    height: 32px;\n",
              "    padding: 0;\n",
              "    width: 32px;\n",
              "  }\n",
              "\n",
              "  .colab-df-quickchart:hover {\n",
              "    background-color: var(--hover-bg-color);\n",
              "    box-shadow: 0 1px 2px rgba(60, 64, 67, 0.3), 0 1px 3px 1px rgba(60, 64, 67, 0.15);\n",
              "    fill: var(--button-hover-fill-color);\n",
              "  }\n",
              "\n",
              "  .colab-df-quickchart-complete:disabled,\n",
              "  .colab-df-quickchart-complete:disabled:hover {\n",
              "    background-color: var(--disabled-bg-color);\n",
              "    fill: var(--disabled-fill-color);\n",
              "    box-shadow: none;\n",
              "  }\n",
              "\n",
              "  .colab-df-spinner {\n",
              "    border: 2px solid var(--fill-color);\n",
              "    border-color: transparent;\n",
              "    border-bottom-color: var(--fill-color);\n",
              "    animation:\n",
              "      spin 1s steps(1) infinite;\n",
              "  }\n",
              "\n",
              "  @keyframes spin {\n",
              "    0% {\n",
              "      border-color: transparent;\n",
              "      border-bottom-color: var(--fill-color);\n",
              "      border-left-color: var(--fill-color);\n",
              "    }\n",
              "    20% {\n",
              "      border-color: transparent;\n",
              "      border-left-color: var(--fill-color);\n",
              "      border-top-color: var(--fill-color);\n",
              "    }\n",
              "    30% {\n",
              "      border-color: transparent;\n",
              "      border-left-color: var(--fill-color);\n",
              "      border-top-color: var(--fill-color);\n",
              "      border-right-color: var(--fill-color);\n",
              "    }\n",
              "    40% {\n",
              "      border-color: transparent;\n",
              "      border-right-color: var(--fill-color);\n",
              "      border-top-color: var(--fill-color);\n",
              "    }\n",
              "    60% {\n",
              "      border-color: transparent;\n",
              "      border-right-color: var(--fill-color);\n",
              "    }\n",
              "    80% {\n",
              "      border-color: transparent;\n",
              "      border-right-color: var(--fill-color);\n",
              "      border-bottom-color: var(--fill-color);\n",
              "    }\n",
              "    90% {\n",
              "      border-color: transparent;\n",
              "      border-bottom-color: var(--fill-color);\n",
              "    }\n",
              "  }\n",
              "</style>\n",
              "\n",
              "  <script>\n",
              "    async function quickchart(key) {\n",
              "      const quickchartButtonEl =\n",
              "        document.querySelector('#' + key + ' button');\n",
              "      quickchartButtonEl.disabled = true;  // To prevent multiple clicks.\n",
              "      quickchartButtonEl.classList.add('colab-df-spinner');\n",
              "      try {\n",
              "        const charts = await google.colab.kernel.invokeFunction(\n",
              "            'suggestCharts', [key], {});\n",
              "      } catch (error) {\n",
              "        console.error('Error during call to suggestCharts:', error);\n",
              "      }\n",
              "      quickchartButtonEl.classList.remove('colab-df-spinner');\n",
              "      quickchartButtonEl.classList.add('colab-df-quickchart-complete');\n",
              "    }\n",
              "    (() => {\n",
              "      let quickchartButtonEl =\n",
              "        document.querySelector('#df-d58cc935-e45a-484e-b625-8b241f01a712 button');\n",
              "      quickchartButtonEl.style.display =\n",
              "        google.colab.kernel.accessAllowed ? 'block' : 'none';\n",
              "    })();\n",
              "  </script>\n",
              "</div>\n",
              "    </div>\n",
              "  </div>\n"
            ]
          },
          "metadata": {},
          "execution_count": 35
        }
      ]
    },
    {
      "cell_type": "markdown",
      "source": [
        "## 2. Data Preprocessing\n",
        "```\n",
        "💡 목차 개요 : 이어서 Sequential Recommendation에 적합한 데이터로 전처리를 진행하겠습니다.\n",
        "우리는 각 user가 시간대별로 어떤 책을 읽었는지 (평점을 남겼는지)에만 관심이 있으므로, user_id, timestamp, book_id 세 column만 따로 사용하겠습니다.\n",
        "```"
      ],
      "metadata": {
        "id": "XDnHnm9dyOYZ"
      }
    },
    {
      "cell_type": "code",
      "source": [
        "df_review = df[['user_id', 'timestamp', 'book_id']]\n",
        "df_review"
      ],
      "metadata": {
        "id": "VAChCOspSzSO",
        "colab": {
          "base_uri": "https://localhost:8080/",
          "height": 424
        },
        "outputId": "70205b09-9f23-45a3-d2a7-04a87d51f8de"
      },
      "execution_count": null,
      "outputs": [
        {
          "output_type": "execute_result",
          "data": {
            "text/plain": [
              "                                  user_id   timestamp   book_id\n",
              "0        8842281e1d1347389f2ab93d60773d4d  2017-08-30  18245960\n",
              "1        8842281e1d1347389f2ab93d60773d4d  2017-03-22     16981\n",
              "2        8842281e1d1347389f2ab93d60773d4d  2017-03-20  28684704\n",
              "3        8842281e1d1347389f2ab93d60773d4d  2016-11-09  27161156\n",
              "4        8842281e1d1347389f2ab93d60773d4d  2016-04-25  25884323\n",
              "...                                   ...         ...       ...\n",
              "1378028  35cef391b171b4fca45771e508028212  2013-04-16  15745950\n",
              "1378029  35cef391b171b4fca45771e508028212  2012-12-28  10861195\n",
              "1378030  35cef391b171b4fca45771e508028212  2013-03-25   6131164\n",
              "1378031  35cef391b171b4fca45771e508028212  2013-01-24  10025305\n",
              "1378032  35cef391b171b4fca45771e508028212  2012-12-29   6482837\n",
              "\n",
              "[1378033 rows x 3 columns]"
            ],
            "text/html": [
              "\n",
              "  <div id=\"df-33edc154-ae7a-4c10-9936-eea0ad161d4f\" class=\"colab-df-container\">\n",
              "    <div>\n",
              "<style scoped>\n",
              "    .dataframe tbody tr th:only-of-type {\n",
              "        vertical-align: middle;\n",
              "    }\n",
              "\n",
              "    .dataframe tbody tr th {\n",
              "        vertical-align: top;\n",
              "    }\n",
              "\n",
              "    .dataframe thead th {\n",
              "        text-align: right;\n",
              "    }\n",
              "</style>\n",
              "<table border=\"1\" class=\"dataframe\">\n",
              "  <thead>\n",
              "    <tr style=\"text-align: right;\">\n",
              "      <th></th>\n",
              "      <th>user_id</th>\n",
              "      <th>timestamp</th>\n",
              "      <th>book_id</th>\n",
              "    </tr>\n",
              "  </thead>\n",
              "  <tbody>\n",
              "    <tr>\n",
              "      <th>0</th>\n",
              "      <td>8842281e1d1347389f2ab93d60773d4d</td>\n",
              "      <td>2017-08-30</td>\n",
              "      <td>18245960</td>\n",
              "    </tr>\n",
              "    <tr>\n",
              "      <th>1</th>\n",
              "      <td>8842281e1d1347389f2ab93d60773d4d</td>\n",
              "      <td>2017-03-22</td>\n",
              "      <td>16981</td>\n",
              "    </tr>\n",
              "    <tr>\n",
              "      <th>2</th>\n",
              "      <td>8842281e1d1347389f2ab93d60773d4d</td>\n",
              "      <td>2017-03-20</td>\n",
              "      <td>28684704</td>\n",
              "    </tr>\n",
              "    <tr>\n",
              "      <th>3</th>\n",
              "      <td>8842281e1d1347389f2ab93d60773d4d</td>\n",
              "      <td>2016-11-09</td>\n",
              "      <td>27161156</td>\n",
              "    </tr>\n",
              "    <tr>\n",
              "      <th>4</th>\n",
              "      <td>8842281e1d1347389f2ab93d60773d4d</td>\n",
              "      <td>2016-04-25</td>\n",
              "      <td>25884323</td>\n",
              "    </tr>\n",
              "    <tr>\n",
              "      <th>...</th>\n",
              "      <td>...</td>\n",
              "      <td>...</td>\n",
              "      <td>...</td>\n",
              "    </tr>\n",
              "    <tr>\n",
              "      <th>1378028</th>\n",
              "      <td>35cef391b171b4fca45771e508028212</td>\n",
              "      <td>2013-04-16</td>\n",
              "      <td>15745950</td>\n",
              "    </tr>\n",
              "    <tr>\n",
              "      <th>1378029</th>\n",
              "      <td>35cef391b171b4fca45771e508028212</td>\n",
              "      <td>2012-12-28</td>\n",
              "      <td>10861195</td>\n",
              "    </tr>\n",
              "    <tr>\n",
              "      <th>1378030</th>\n",
              "      <td>35cef391b171b4fca45771e508028212</td>\n",
              "      <td>2013-03-25</td>\n",
              "      <td>6131164</td>\n",
              "    </tr>\n",
              "    <tr>\n",
              "      <th>1378031</th>\n",
              "      <td>35cef391b171b4fca45771e508028212</td>\n",
              "      <td>2013-01-24</td>\n",
              "      <td>10025305</td>\n",
              "    </tr>\n",
              "    <tr>\n",
              "      <th>1378032</th>\n",
              "      <td>35cef391b171b4fca45771e508028212</td>\n",
              "      <td>2012-12-29</td>\n",
              "      <td>6482837</td>\n",
              "    </tr>\n",
              "  </tbody>\n",
              "</table>\n",
              "<p>1378033 rows × 3 columns</p>\n",
              "</div>\n",
              "    <div class=\"colab-df-buttons\">\n",
              "\n",
              "  <div class=\"colab-df-container\">\n",
              "    <button class=\"colab-df-convert\" onclick=\"convertToInteractive('df-33edc154-ae7a-4c10-9936-eea0ad161d4f')\"\n",
              "            title=\"Convert this dataframe to an interactive table.\"\n",
              "            style=\"display:none;\">\n",
              "\n",
              "  <svg xmlns=\"http://www.w3.org/2000/svg\" height=\"24px\" viewBox=\"0 -960 960 960\">\n",
              "    <path d=\"M120-120v-720h720v720H120Zm60-500h600v-160H180v160Zm220 220h160v-160H400v160Zm0 220h160v-160H400v160ZM180-400h160v-160H180v160Zm440 0h160v-160H620v160ZM180-180h160v-160H180v160Zm440 0h160v-160H620v160Z\"/>\n",
              "  </svg>\n",
              "    </button>\n",
              "\n",
              "  <style>\n",
              "    .colab-df-container {\n",
              "      display:flex;\n",
              "      gap: 12px;\n",
              "    }\n",
              "\n",
              "    .colab-df-convert {\n",
              "      background-color: #E8F0FE;\n",
              "      border: none;\n",
              "      border-radius: 50%;\n",
              "      cursor: pointer;\n",
              "      display: none;\n",
              "      fill: #1967D2;\n",
              "      height: 32px;\n",
              "      padding: 0 0 0 0;\n",
              "      width: 32px;\n",
              "    }\n",
              "\n",
              "    .colab-df-convert:hover {\n",
              "      background-color: #E2EBFA;\n",
              "      box-shadow: 0px 1px 2px rgba(60, 64, 67, 0.3), 0px 1px 3px 1px rgba(60, 64, 67, 0.15);\n",
              "      fill: #174EA6;\n",
              "    }\n",
              "\n",
              "    .colab-df-buttons div {\n",
              "      margin-bottom: 4px;\n",
              "    }\n",
              "\n",
              "    [theme=dark] .colab-df-convert {\n",
              "      background-color: #3B4455;\n",
              "      fill: #D2E3FC;\n",
              "    }\n",
              "\n",
              "    [theme=dark] .colab-df-convert:hover {\n",
              "      background-color: #434B5C;\n",
              "      box-shadow: 0px 1px 3px 1px rgba(0, 0, 0, 0.15);\n",
              "      filter: drop-shadow(0px 1px 2px rgba(0, 0, 0, 0.3));\n",
              "      fill: #FFFFFF;\n",
              "    }\n",
              "  </style>\n",
              "\n",
              "    <script>\n",
              "      const buttonEl =\n",
              "        document.querySelector('#df-33edc154-ae7a-4c10-9936-eea0ad161d4f button.colab-df-convert');\n",
              "      buttonEl.style.display =\n",
              "        google.colab.kernel.accessAllowed ? 'block' : 'none';\n",
              "\n",
              "      async function convertToInteractive(key) {\n",
              "        const element = document.querySelector('#df-33edc154-ae7a-4c10-9936-eea0ad161d4f');\n",
              "        const dataTable =\n",
              "          await google.colab.kernel.invokeFunction('convertToInteractive',\n",
              "                                                    [key], {});\n",
              "        if (!dataTable) return;\n",
              "\n",
              "        const docLinkHtml = 'Like what you see? Visit the ' +\n",
              "          '<a target=\"_blank\" href=https://colab.research.google.com/notebooks/data_table.ipynb>data table notebook</a>'\n",
              "          + ' to learn more about interactive tables.';\n",
              "        element.innerHTML = '';\n",
              "        dataTable['output_type'] = 'display_data';\n",
              "        await google.colab.output.renderOutput(dataTable, element);\n",
              "        const docLink = document.createElement('div');\n",
              "        docLink.innerHTML = docLinkHtml;\n",
              "        element.appendChild(docLink);\n",
              "      }\n",
              "    </script>\n",
              "  </div>\n",
              "\n",
              "\n",
              "<div id=\"df-0d056bc0-27c6-4e0f-a23d-ac6d935eb654\">\n",
              "  <button class=\"colab-df-quickchart\" onclick=\"quickchart('df-0d056bc0-27c6-4e0f-a23d-ac6d935eb654')\"\n",
              "            title=\"Suggest charts\"\n",
              "            style=\"display:none;\">\n",
              "\n",
              "<svg xmlns=\"http://www.w3.org/2000/svg\" height=\"24px\"viewBox=\"0 0 24 24\"\n",
              "     width=\"24px\">\n",
              "    <g>\n",
              "        <path d=\"M19 3H5c-1.1 0-2 .9-2 2v14c0 1.1.9 2 2 2h14c1.1 0 2-.9 2-2V5c0-1.1-.9-2-2-2zM9 17H7v-7h2v7zm4 0h-2V7h2v10zm4 0h-2v-4h2v4z\"/>\n",
              "    </g>\n",
              "</svg>\n",
              "  </button>\n",
              "\n",
              "<style>\n",
              "  .colab-df-quickchart {\n",
              "      --bg-color: #E8F0FE;\n",
              "      --fill-color: #1967D2;\n",
              "      --hover-bg-color: #E2EBFA;\n",
              "      --hover-fill-color: #174EA6;\n",
              "      --disabled-fill-color: #AAA;\n",
              "      --disabled-bg-color: #DDD;\n",
              "  }\n",
              "\n",
              "  [theme=dark] .colab-df-quickchart {\n",
              "      --bg-color: #3B4455;\n",
              "      --fill-color: #D2E3FC;\n",
              "      --hover-bg-color: #434B5C;\n",
              "      --hover-fill-color: #FFFFFF;\n",
              "      --disabled-bg-color: #3B4455;\n",
              "      --disabled-fill-color: #666;\n",
              "  }\n",
              "\n",
              "  .colab-df-quickchart {\n",
              "    background-color: var(--bg-color);\n",
              "    border: none;\n",
              "    border-radius: 50%;\n",
              "    cursor: pointer;\n",
              "    display: none;\n",
              "    fill: var(--fill-color);\n",
              "    height: 32px;\n",
              "    padding: 0;\n",
              "    width: 32px;\n",
              "  }\n",
              "\n",
              "  .colab-df-quickchart:hover {\n",
              "    background-color: var(--hover-bg-color);\n",
              "    box-shadow: 0 1px 2px rgba(60, 64, 67, 0.3), 0 1px 3px 1px rgba(60, 64, 67, 0.15);\n",
              "    fill: var(--button-hover-fill-color);\n",
              "  }\n",
              "\n",
              "  .colab-df-quickchart-complete:disabled,\n",
              "  .colab-df-quickchart-complete:disabled:hover {\n",
              "    background-color: var(--disabled-bg-color);\n",
              "    fill: var(--disabled-fill-color);\n",
              "    box-shadow: none;\n",
              "  }\n",
              "\n",
              "  .colab-df-spinner {\n",
              "    border: 2px solid var(--fill-color);\n",
              "    border-color: transparent;\n",
              "    border-bottom-color: var(--fill-color);\n",
              "    animation:\n",
              "      spin 1s steps(1) infinite;\n",
              "  }\n",
              "\n",
              "  @keyframes spin {\n",
              "    0% {\n",
              "      border-color: transparent;\n",
              "      border-bottom-color: var(--fill-color);\n",
              "      border-left-color: var(--fill-color);\n",
              "    }\n",
              "    20% {\n",
              "      border-color: transparent;\n",
              "      border-left-color: var(--fill-color);\n",
              "      border-top-color: var(--fill-color);\n",
              "    }\n",
              "    30% {\n",
              "      border-color: transparent;\n",
              "      border-left-color: var(--fill-color);\n",
              "      border-top-color: var(--fill-color);\n",
              "      border-right-color: var(--fill-color);\n",
              "    }\n",
              "    40% {\n",
              "      border-color: transparent;\n",
              "      border-right-color: var(--fill-color);\n",
              "      border-top-color: var(--fill-color);\n",
              "    }\n",
              "    60% {\n",
              "      border-color: transparent;\n",
              "      border-right-color: var(--fill-color);\n",
              "    }\n",
              "    80% {\n",
              "      border-color: transparent;\n",
              "      border-right-color: var(--fill-color);\n",
              "      border-bottom-color: var(--fill-color);\n",
              "    }\n",
              "    90% {\n",
              "      border-color: transparent;\n",
              "      border-bottom-color: var(--fill-color);\n",
              "    }\n",
              "  }\n",
              "</style>\n",
              "\n",
              "  <script>\n",
              "    async function quickchart(key) {\n",
              "      const quickchartButtonEl =\n",
              "        document.querySelector('#' + key + ' button');\n",
              "      quickchartButtonEl.disabled = true;  // To prevent multiple clicks.\n",
              "      quickchartButtonEl.classList.add('colab-df-spinner');\n",
              "      try {\n",
              "        const charts = await google.colab.kernel.invokeFunction(\n",
              "            'suggestCharts', [key], {});\n",
              "      } catch (error) {\n",
              "        console.error('Error during call to suggestCharts:', error);\n",
              "      }\n",
              "      quickchartButtonEl.classList.remove('colab-df-spinner');\n",
              "      quickchartButtonEl.classList.add('colab-df-quickchart-complete');\n",
              "    }\n",
              "    (() => {\n",
              "      let quickchartButtonEl =\n",
              "        document.querySelector('#df-0d056bc0-27c6-4e0f-a23d-ac6d935eb654 button');\n",
              "      quickchartButtonEl.style.display =\n",
              "        google.colab.kernel.accessAllowed ? 'block' : 'none';\n",
              "    })();\n",
              "  </script>\n",
              "</div>\n",
              "    </div>\n",
              "  </div>\n"
            ]
          },
          "metadata": {},
          "execution_count": 36
        }
      ]
    },
    {
      "cell_type": "markdown",
      "source": [
        "각 user 별 평점 갯수에 대한 통계를 내보겠습니다. 해당 통계를 통해, 무려 1815개의 평점을 남긴 user가 있는 반면, 1개 또는 소수의 평점만 작성한 user도 상당히 많은 것을 알 수 있습니다."
      ],
      "metadata": {
        "id": "szH-clAjynK0"
      }
    },
    {
      "cell_type": "code",
      "source": [
        "df_review.groupby('user_id').size().value_counts().sort_index()"
      ],
      "metadata": {
        "id": "kkVnnsXjy7tx",
        "colab": {
          "base_uri": "https://localhost:8080/"
        },
        "outputId": "e1303b99-eb10-486e-b9c3-e67727dbf416"
      },
      "execution_count": null,
      "outputs": [
        {
          "output_type": "execute_result",
          "data": {
            "text/plain": [
              "1       387\n",
              "2       435\n",
              "3       398\n",
              "4       404\n",
              "5       401\n",
              "       ... \n",
              "1165      1\n",
              "1189      1\n",
              "1214      1\n",
              "1647      1\n",
              "1815      1\n",
              "Length: 610, dtype: int64"
            ]
          },
          "metadata": {},
          "execution_count": 37
        }
      ]
    },
    {
      "cell_type": "markdown",
      "source": [
        "데이터의 주요한 패턴에 집중하기 위해서 평점을 10개 이상 남긴 user만 가져오도록 하겠습니다."
      ],
      "metadata": {
        "id": "VFzC64VV0hR7"
      }
    },
    {
      "cell_type": "code",
      "source": [
        "df_review = df_review.groupby('user_id').filter(lambda x: len(x) >= 10)"
      ],
      "metadata": {
        "id": "F8oRN9oXoCy-"
      },
      "execution_count": null,
      "outputs": []
    },
    {
      "cell_type": "code",
      "source": [
        "df_review # 1378033 -> 1361333 으로 거의 차이 없음"
      ],
      "metadata": {
        "colab": {
          "base_uri": "https://localhost:8080/",
          "height": 424
        },
        "id": "6cVW3yjhEIJb",
        "outputId": "13257c16-40a4-4a62-f573-68417891e832"
      },
      "execution_count": null,
      "outputs": [
        {
          "output_type": "execute_result",
          "data": {
            "text/plain": [
              "                                  user_id   timestamp   book_id\n",
              "0        8842281e1d1347389f2ab93d60773d4d  2017-08-30  18245960\n",
              "1        8842281e1d1347389f2ab93d60773d4d  2017-03-22     16981\n",
              "2        8842281e1d1347389f2ab93d60773d4d  2017-03-20  28684704\n",
              "3        8842281e1d1347389f2ab93d60773d4d  2016-11-09  27161156\n",
              "4        8842281e1d1347389f2ab93d60773d4d  2016-04-25  25884323\n",
              "...                                   ...         ...       ...\n",
              "1378028  35cef391b171b4fca45771e508028212  2013-04-16  15745950\n",
              "1378029  35cef391b171b4fca45771e508028212  2012-12-28  10861195\n",
              "1378030  35cef391b171b4fca45771e508028212  2013-03-25   6131164\n",
              "1378031  35cef391b171b4fca45771e508028212  2013-01-24  10025305\n",
              "1378032  35cef391b171b4fca45771e508028212  2012-12-29   6482837\n",
              "\n",
              "[1361333 rows x 3 columns]"
            ],
            "text/html": [
              "\n",
              "  <div id=\"df-ecafed0e-83e8-4b5e-b9c3-c23e7a4355e3\" class=\"colab-df-container\">\n",
              "    <div>\n",
              "<style scoped>\n",
              "    .dataframe tbody tr th:only-of-type {\n",
              "        vertical-align: middle;\n",
              "    }\n",
              "\n",
              "    .dataframe tbody tr th {\n",
              "        vertical-align: top;\n",
              "    }\n",
              "\n",
              "    .dataframe thead th {\n",
              "        text-align: right;\n",
              "    }\n",
              "</style>\n",
              "<table border=\"1\" class=\"dataframe\">\n",
              "  <thead>\n",
              "    <tr style=\"text-align: right;\">\n",
              "      <th></th>\n",
              "      <th>user_id</th>\n",
              "      <th>timestamp</th>\n",
              "      <th>book_id</th>\n",
              "    </tr>\n",
              "  </thead>\n",
              "  <tbody>\n",
              "    <tr>\n",
              "      <th>0</th>\n",
              "      <td>8842281e1d1347389f2ab93d60773d4d</td>\n",
              "      <td>2017-08-30</td>\n",
              "      <td>18245960</td>\n",
              "    </tr>\n",
              "    <tr>\n",
              "      <th>1</th>\n",
              "      <td>8842281e1d1347389f2ab93d60773d4d</td>\n",
              "      <td>2017-03-22</td>\n",
              "      <td>16981</td>\n",
              "    </tr>\n",
              "    <tr>\n",
              "      <th>2</th>\n",
              "      <td>8842281e1d1347389f2ab93d60773d4d</td>\n",
              "      <td>2017-03-20</td>\n",
              "      <td>28684704</td>\n",
              "    </tr>\n",
              "    <tr>\n",
              "      <th>3</th>\n",
              "      <td>8842281e1d1347389f2ab93d60773d4d</td>\n",
              "      <td>2016-11-09</td>\n",
              "      <td>27161156</td>\n",
              "    </tr>\n",
              "    <tr>\n",
              "      <th>4</th>\n",
              "      <td>8842281e1d1347389f2ab93d60773d4d</td>\n",
              "      <td>2016-04-25</td>\n",
              "      <td>25884323</td>\n",
              "    </tr>\n",
              "    <tr>\n",
              "      <th>...</th>\n",
              "      <td>...</td>\n",
              "      <td>...</td>\n",
              "      <td>...</td>\n",
              "    </tr>\n",
              "    <tr>\n",
              "      <th>1378028</th>\n",
              "      <td>35cef391b171b4fca45771e508028212</td>\n",
              "      <td>2013-04-16</td>\n",
              "      <td>15745950</td>\n",
              "    </tr>\n",
              "    <tr>\n",
              "      <th>1378029</th>\n",
              "      <td>35cef391b171b4fca45771e508028212</td>\n",
              "      <td>2012-12-28</td>\n",
              "      <td>10861195</td>\n",
              "    </tr>\n",
              "    <tr>\n",
              "      <th>1378030</th>\n",
              "      <td>35cef391b171b4fca45771e508028212</td>\n",
              "      <td>2013-03-25</td>\n",
              "      <td>6131164</td>\n",
              "    </tr>\n",
              "    <tr>\n",
              "      <th>1378031</th>\n",
              "      <td>35cef391b171b4fca45771e508028212</td>\n",
              "      <td>2013-01-24</td>\n",
              "      <td>10025305</td>\n",
              "    </tr>\n",
              "    <tr>\n",
              "      <th>1378032</th>\n",
              "      <td>35cef391b171b4fca45771e508028212</td>\n",
              "      <td>2012-12-29</td>\n",
              "      <td>6482837</td>\n",
              "    </tr>\n",
              "  </tbody>\n",
              "</table>\n",
              "<p>1361333 rows × 3 columns</p>\n",
              "</div>\n",
              "    <div class=\"colab-df-buttons\">\n",
              "\n",
              "  <div class=\"colab-df-container\">\n",
              "    <button class=\"colab-df-convert\" onclick=\"convertToInteractive('df-ecafed0e-83e8-4b5e-b9c3-c23e7a4355e3')\"\n",
              "            title=\"Convert this dataframe to an interactive table.\"\n",
              "            style=\"display:none;\">\n",
              "\n",
              "  <svg xmlns=\"http://www.w3.org/2000/svg\" height=\"24px\" viewBox=\"0 -960 960 960\">\n",
              "    <path d=\"M120-120v-720h720v720H120Zm60-500h600v-160H180v160Zm220 220h160v-160H400v160Zm0 220h160v-160H400v160ZM180-400h160v-160H180v160Zm440 0h160v-160H620v160ZM180-180h160v-160H180v160Zm440 0h160v-160H620v160Z\"/>\n",
              "  </svg>\n",
              "    </button>\n",
              "\n",
              "  <style>\n",
              "    .colab-df-container {\n",
              "      display:flex;\n",
              "      gap: 12px;\n",
              "    }\n",
              "\n",
              "    .colab-df-convert {\n",
              "      background-color: #E8F0FE;\n",
              "      border: none;\n",
              "      border-radius: 50%;\n",
              "      cursor: pointer;\n",
              "      display: none;\n",
              "      fill: #1967D2;\n",
              "      height: 32px;\n",
              "      padding: 0 0 0 0;\n",
              "      width: 32px;\n",
              "    }\n",
              "\n",
              "    .colab-df-convert:hover {\n",
              "      background-color: #E2EBFA;\n",
              "      box-shadow: 0px 1px 2px rgba(60, 64, 67, 0.3), 0px 1px 3px 1px rgba(60, 64, 67, 0.15);\n",
              "      fill: #174EA6;\n",
              "    }\n",
              "\n",
              "    .colab-df-buttons div {\n",
              "      margin-bottom: 4px;\n",
              "    }\n",
              "\n",
              "    [theme=dark] .colab-df-convert {\n",
              "      background-color: #3B4455;\n",
              "      fill: #D2E3FC;\n",
              "    }\n",
              "\n",
              "    [theme=dark] .colab-df-convert:hover {\n",
              "      background-color: #434B5C;\n",
              "      box-shadow: 0px 1px 3px 1px rgba(0, 0, 0, 0.15);\n",
              "      filter: drop-shadow(0px 1px 2px rgba(0, 0, 0, 0.3));\n",
              "      fill: #FFFFFF;\n",
              "    }\n",
              "  </style>\n",
              "\n",
              "    <script>\n",
              "      const buttonEl =\n",
              "        document.querySelector('#df-ecafed0e-83e8-4b5e-b9c3-c23e7a4355e3 button.colab-df-convert');\n",
              "      buttonEl.style.display =\n",
              "        google.colab.kernel.accessAllowed ? 'block' : 'none';\n",
              "\n",
              "      async function convertToInteractive(key) {\n",
              "        const element = document.querySelector('#df-ecafed0e-83e8-4b5e-b9c3-c23e7a4355e3');\n",
              "        const dataTable =\n",
              "          await google.colab.kernel.invokeFunction('convertToInteractive',\n",
              "                                                    [key], {});\n",
              "        if (!dataTable) return;\n",
              "\n",
              "        const docLinkHtml = 'Like what you see? Visit the ' +\n",
              "          '<a target=\"_blank\" href=https://colab.research.google.com/notebooks/data_table.ipynb>data table notebook</a>'\n",
              "          + ' to learn more about interactive tables.';\n",
              "        element.innerHTML = '';\n",
              "        dataTable['output_type'] = 'display_data';\n",
              "        await google.colab.output.renderOutput(dataTable, element);\n",
              "        const docLink = document.createElement('div');\n",
              "        docLink.innerHTML = docLinkHtml;\n",
              "        element.appendChild(docLink);\n",
              "      }\n",
              "    </script>\n",
              "  </div>\n",
              "\n",
              "\n",
              "<div id=\"df-17170aa7-f63e-4c86-ac70-71f756b7d4ad\">\n",
              "  <button class=\"colab-df-quickchart\" onclick=\"quickchart('df-17170aa7-f63e-4c86-ac70-71f756b7d4ad')\"\n",
              "            title=\"Suggest charts\"\n",
              "            style=\"display:none;\">\n",
              "\n",
              "<svg xmlns=\"http://www.w3.org/2000/svg\" height=\"24px\"viewBox=\"0 0 24 24\"\n",
              "     width=\"24px\">\n",
              "    <g>\n",
              "        <path d=\"M19 3H5c-1.1 0-2 .9-2 2v14c0 1.1.9 2 2 2h14c1.1 0 2-.9 2-2V5c0-1.1-.9-2-2-2zM9 17H7v-7h2v7zm4 0h-2V7h2v10zm4 0h-2v-4h2v4z\"/>\n",
              "    </g>\n",
              "</svg>\n",
              "  </button>\n",
              "\n",
              "<style>\n",
              "  .colab-df-quickchart {\n",
              "      --bg-color: #E8F0FE;\n",
              "      --fill-color: #1967D2;\n",
              "      --hover-bg-color: #E2EBFA;\n",
              "      --hover-fill-color: #174EA6;\n",
              "      --disabled-fill-color: #AAA;\n",
              "      --disabled-bg-color: #DDD;\n",
              "  }\n",
              "\n",
              "  [theme=dark] .colab-df-quickchart {\n",
              "      --bg-color: #3B4455;\n",
              "      --fill-color: #D2E3FC;\n",
              "      --hover-bg-color: #434B5C;\n",
              "      --hover-fill-color: #FFFFFF;\n",
              "      --disabled-bg-color: #3B4455;\n",
              "      --disabled-fill-color: #666;\n",
              "  }\n",
              "\n",
              "  .colab-df-quickchart {\n",
              "    background-color: var(--bg-color);\n",
              "    border: none;\n",
              "    border-radius: 50%;\n",
              "    cursor: pointer;\n",
              "    display: none;\n",
              "    fill: var(--fill-color);\n",
              "    height: 32px;\n",
              "    padding: 0;\n",
              "    width: 32px;\n",
              "  }\n",
              "\n",
              "  .colab-df-quickchart:hover {\n",
              "    background-color: var(--hover-bg-color);\n",
              "    box-shadow: 0 1px 2px rgba(60, 64, 67, 0.3), 0 1px 3px 1px rgba(60, 64, 67, 0.15);\n",
              "    fill: var(--button-hover-fill-color);\n",
              "  }\n",
              "\n",
              "  .colab-df-quickchart-complete:disabled,\n",
              "  .colab-df-quickchart-complete:disabled:hover {\n",
              "    background-color: var(--disabled-bg-color);\n",
              "    fill: var(--disabled-fill-color);\n",
              "    box-shadow: none;\n",
              "  }\n",
              "\n",
              "  .colab-df-spinner {\n",
              "    border: 2px solid var(--fill-color);\n",
              "    border-color: transparent;\n",
              "    border-bottom-color: var(--fill-color);\n",
              "    animation:\n",
              "      spin 1s steps(1) infinite;\n",
              "  }\n",
              "\n",
              "  @keyframes spin {\n",
              "    0% {\n",
              "      border-color: transparent;\n",
              "      border-bottom-color: var(--fill-color);\n",
              "      border-left-color: var(--fill-color);\n",
              "    }\n",
              "    20% {\n",
              "      border-color: transparent;\n",
              "      border-left-color: var(--fill-color);\n",
              "      border-top-color: var(--fill-color);\n",
              "    }\n",
              "    30% {\n",
              "      border-color: transparent;\n",
              "      border-left-color: var(--fill-color);\n",
              "      border-top-color: var(--fill-color);\n",
              "      border-right-color: var(--fill-color);\n",
              "    }\n",
              "    40% {\n",
              "      border-color: transparent;\n",
              "      border-right-color: var(--fill-color);\n",
              "      border-top-color: var(--fill-color);\n",
              "    }\n",
              "    60% {\n",
              "      border-color: transparent;\n",
              "      border-right-color: var(--fill-color);\n",
              "    }\n",
              "    80% {\n",
              "      border-color: transparent;\n",
              "      border-right-color: var(--fill-color);\n",
              "      border-bottom-color: var(--fill-color);\n",
              "    }\n",
              "    90% {\n",
              "      border-color: transparent;\n",
              "      border-bottom-color: var(--fill-color);\n",
              "    }\n",
              "  }\n",
              "</style>\n",
              "\n",
              "  <script>\n",
              "    async function quickchart(key) {\n",
              "      const quickchartButtonEl =\n",
              "        document.querySelector('#' + key + ' button');\n",
              "      quickchartButtonEl.disabled = true;  // To prevent multiple clicks.\n",
              "      quickchartButtonEl.classList.add('colab-df-spinner');\n",
              "      try {\n",
              "        const charts = await google.colab.kernel.invokeFunction(\n",
              "            'suggestCharts', [key], {});\n",
              "      } catch (error) {\n",
              "        console.error('Error during call to suggestCharts:', error);\n",
              "      }\n",
              "      quickchartButtonEl.classList.remove('colab-df-spinner');\n",
              "      quickchartButtonEl.classList.add('colab-df-quickchart-complete');\n",
              "    }\n",
              "    (() => {\n",
              "      let quickchartButtonEl =\n",
              "        document.querySelector('#df-17170aa7-f63e-4c86-ac70-71f756b7d4ad button');\n",
              "      quickchartButtonEl.style.display =\n",
              "        google.colab.kernel.accessAllowed ? 'block' : 'none';\n",
              "    })();\n",
              "  </script>\n",
              "</div>\n",
              "    </div>\n",
              "  </div>\n"
            ]
          },
          "metadata": {},
          "execution_count": 39
        }
      ]
    },
    {
      "cell_type": "code",
      "source": [
        "book_ids = df_review['book_id'].unique()\n",
        "user_ids = df_review['user_id'].unique()\n",
        "num_item, num_user = len(book_ids), len(user_ids)"
      ],
      "metadata": {
        "id": "Sc3r821BSJ4a"
      },
      "execution_count": null,
      "outputs": []
    },
    {
      "cell_type": "markdown",
      "source": [
        "Filtering 후 간단한 통계를 내봅니다.\n",
        "25475권의 책과 15451명의 사용자로 약 136만개의 rating 데이터가 구성되어 있음을 알 수 있습니다. 또한, 평균적으로 한명의 user가 약 88개의 평점을 작성했다는 정보도 알 수 있습니다."
      ],
      "metadata": {
        "id": "B6SRuloy07pC"
      }
    },
    {
      "cell_type": "code",
      "source": [
        "print (\"unique book #: \", len(book_ids), \"\\nunique user #: \", len(user_ids), \"\\nrating #: \", len(df_review))\n",
        "print (\"mean rating #: \", len(df_review) / len(user_ids))"
      ],
      "metadata": {
        "id": "WTPMVCE0SMk3",
        "colab": {
          "base_uri": "https://localhost:8080/"
        },
        "outputId": "2692bc64-9a4c-47ad-c561-6ab885fe5a14"
      },
      "execution_count": null,
      "outputs": [
        {
          "output_type": "stream",
          "name": "stdout",
          "text": [
            "unique book #:  25475 \n",
            "unique user #:  15451 \n",
            "rating #:  1361333\n",
            "mean rating #:  88.10646560093198\n"
          ]
        }
      ]
    },
    {
      "cell_type": "markdown",
      "source": [
        "\"8842281e1d1347389f2ab93d60773d4d\"와 같이 복잡한 문자열 대신 깔끔한 정수로 book_id와 user_id를 reindexing하고, 새로 정의된 column명으로 구성된 df_review를 재구성합니다."
      ],
      "metadata": {
        "id": "5nY9ELBw1tvz"
      }
    },
    {
      "cell_type": "code",
      "source": [
        "book2idx = pd.Series(data=np.arange(len(book_ids))+1, index=book_ids) # item re-indexing (1~num_item) # 0 for padding in SASRec\n",
        "user2idx = pd.Series(data=np.arange(len(user_ids)), index=user_ids) # user re-indexing (0~num_user-1)\n",
        "\n",
        "df_review = pd.merge(df_review, pd.DataFrame({'book_id': book_ids, 'book_idx': book2idx[book_ids].values}), on='book_id', how='inner')\n",
        "df_review = pd.merge(df_review, pd.DataFrame({'user_id': user_ids, 'user_idx': user2idx[user_ids].values}), on='user_id', how='inner')\n",
        "\n",
        "df_review.sort_values(['user_idx', 'timestamp'], inplace=True) # user_idx와 timestamp로 정렬합니다.\n",
        "df_review = df_review[['user_idx','timestamp', 'book_idx']]"
      ],
      "metadata": {
        "id": "39dw2q7nWbS1"
      },
      "execution_count": null,
      "outputs": []
    },
    {
      "cell_type": "code",
      "source": [
        "df_review"
      ],
      "metadata": {
        "id": "5VRmJUBgXXmr",
        "colab": {
          "base_uri": "https://localhost:8080/",
          "height": 424
        },
        "outputId": "536df749-6fc5-403a-95d2-4a7ea8929b67"
      },
      "execution_count": null,
      "outputs": [
        {
          "output_type": "execute_result",
          "data": {
            "text/plain": [
              "         user_idx   timestamp  book_idx\n",
              "73              0  2006-12-07        74\n",
              "55              0  2007-04-09        56\n",
              "36              0  2009-04-14        37\n",
              "35              0  2009-04-20        36\n",
              "34              0  2009-06-18        35\n",
              "...           ...         ...       ...\n",
              "1148408     15450  2013-12-25      1977\n",
              "1148407     15450  2013-12-27      1364\n",
              "1148405     15450  2014-02-03       939\n",
              "1148416     15450  2014-02-03      5846\n",
              "1148412     15450  2016-04-08      3467\n",
              "\n",
              "[1361333 rows x 3 columns]"
            ],
            "text/html": [
              "\n",
              "  <div id=\"df-eae624fc-7f27-4545-b340-d9fcbf39fa92\" class=\"colab-df-container\">\n",
              "    <div>\n",
              "<style scoped>\n",
              "    .dataframe tbody tr th:only-of-type {\n",
              "        vertical-align: middle;\n",
              "    }\n",
              "\n",
              "    .dataframe tbody tr th {\n",
              "        vertical-align: top;\n",
              "    }\n",
              "\n",
              "    .dataframe thead th {\n",
              "        text-align: right;\n",
              "    }\n",
              "</style>\n",
              "<table border=\"1\" class=\"dataframe\">\n",
              "  <thead>\n",
              "    <tr style=\"text-align: right;\">\n",
              "      <th></th>\n",
              "      <th>user_idx</th>\n",
              "      <th>timestamp</th>\n",
              "      <th>book_idx</th>\n",
              "    </tr>\n",
              "  </thead>\n",
              "  <tbody>\n",
              "    <tr>\n",
              "      <th>73</th>\n",
              "      <td>0</td>\n",
              "      <td>2006-12-07</td>\n",
              "      <td>74</td>\n",
              "    </tr>\n",
              "    <tr>\n",
              "      <th>55</th>\n",
              "      <td>0</td>\n",
              "      <td>2007-04-09</td>\n",
              "      <td>56</td>\n",
              "    </tr>\n",
              "    <tr>\n",
              "      <th>36</th>\n",
              "      <td>0</td>\n",
              "      <td>2009-04-14</td>\n",
              "      <td>37</td>\n",
              "    </tr>\n",
              "    <tr>\n",
              "      <th>35</th>\n",
              "      <td>0</td>\n",
              "      <td>2009-04-20</td>\n",
              "      <td>36</td>\n",
              "    </tr>\n",
              "    <tr>\n",
              "      <th>34</th>\n",
              "      <td>0</td>\n",
              "      <td>2009-06-18</td>\n",
              "      <td>35</td>\n",
              "    </tr>\n",
              "    <tr>\n",
              "      <th>...</th>\n",
              "      <td>...</td>\n",
              "      <td>...</td>\n",
              "      <td>...</td>\n",
              "    </tr>\n",
              "    <tr>\n",
              "      <th>1148408</th>\n",
              "      <td>15450</td>\n",
              "      <td>2013-12-25</td>\n",
              "      <td>1977</td>\n",
              "    </tr>\n",
              "    <tr>\n",
              "      <th>1148407</th>\n",
              "      <td>15450</td>\n",
              "      <td>2013-12-27</td>\n",
              "      <td>1364</td>\n",
              "    </tr>\n",
              "    <tr>\n",
              "      <th>1148405</th>\n",
              "      <td>15450</td>\n",
              "      <td>2014-02-03</td>\n",
              "      <td>939</td>\n",
              "    </tr>\n",
              "    <tr>\n",
              "      <th>1148416</th>\n",
              "      <td>15450</td>\n",
              "      <td>2014-02-03</td>\n",
              "      <td>5846</td>\n",
              "    </tr>\n",
              "    <tr>\n",
              "      <th>1148412</th>\n",
              "      <td>15450</td>\n",
              "      <td>2016-04-08</td>\n",
              "      <td>3467</td>\n",
              "    </tr>\n",
              "  </tbody>\n",
              "</table>\n",
              "<p>1361333 rows × 3 columns</p>\n",
              "</div>\n",
              "    <div class=\"colab-df-buttons\">\n",
              "\n",
              "  <div class=\"colab-df-container\">\n",
              "    <button class=\"colab-df-convert\" onclick=\"convertToInteractive('df-eae624fc-7f27-4545-b340-d9fcbf39fa92')\"\n",
              "            title=\"Convert this dataframe to an interactive table.\"\n",
              "            style=\"display:none;\">\n",
              "\n",
              "  <svg xmlns=\"http://www.w3.org/2000/svg\" height=\"24px\" viewBox=\"0 -960 960 960\">\n",
              "    <path d=\"M120-120v-720h720v720H120Zm60-500h600v-160H180v160Zm220 220h160v-160H400v160Zm0 220h160v-160H400v160ZM180-400h160v-160H180v160Zm440 0h160v-160H620v160ZM180-180h160v-160H180v160Zm440 0h160v-160H620v160Z\"/>\n",
              "  </svg>\n",
              "    </button>\n",
              "\n",
              "  <style>\n",
              "    .colab-df-container {\n",
              "      display:flex;\n",
              "      gap: 12px;\n",
              "    }\n",
              "\n",
              "    .colab-df-convert {\n",
              "      background-color: #E8F0FE;\n",
              "      border: none;\n",
              "      border-radius: 50%;\n",
              "      cursor: pointer;\n",
              "      display: none;\n",
              "      fill: #1967D2;\n",
              "      height: 32px;\n",
              "      padding: 0 0 0 0;\n",
              "      width: 32px;\n",
              "    }\n",
              "\n",
              "    .colab-df-convert:hover {\n",
              "      background-color: #E2EBFA;\n",
              "      box-shadow: 0px 1px 2px rgba(60, 64, 67, 0.3), 0px 1px 3px 1px rgba(60, 64, 67, 0.15);\n",
              "      fill: #174EA6;\n",
              "    }\n",
              "\n",
              "    .colab-df-buttons div {\n",
              "      margin-bottom: 4px;\n",
              "    }\n",
              "\n",
              "    [theme=dark] .colab-df-convert {\n",
              "      background-color: #3B4455;\n",
              "      fill: #D2E3FC;\n",
              "    }\n",
              "\n",
              "    [theme=dark] .colab-df-convert:hover {\n",
              "      background-color: #434B5C;\n",
              "      box-shadow: 0px 1px 3px 1px rgba(0, 0, 0, 0.15);\n",
              "      filter: drop-shadow(0px 1px 2px rgba(0, 0, 0, 0.3));\n",
              "      fill: #FFFFFF;\n",
              "    }\n",
              "  </style>\n",
              "\n",
              "    <script>\n",
              "      const buttonEl =\n",
              "        document.querySelector('#df-eae624fc-7f27-4545-b340-d9fcbf39fa92 button.colab-df-convert');\n",
              "      buttonEl.style.display =\n",
              "        google.colab.kernel.accessAllowed ? 'block' : 'none';\n",
              "\n",
              "      async function convertToInteractive(key) {\n",
              "        const element = document.querySelector('#df-eae624fc-7f27-4545-b340-d9fcbf39fa92');\n",
              "        const dataTable =\n",
              "          await google.colab.kernel.invokeFunction('convertToInteractive',\n",
              "                                                    [key], {});\n",
              "        if (!dataTable) return;\n",
              "\n",
              "        const docLinkHtml = 'Like what you see? Visit the ' +\n",
              "          '<a target=\"_blank\" href=https://colab.research.google.com/notebooks/data_table.ipynb>data table notebook</a>'\n",
              "          + ' to learn more about interactive tables.';\n",
              "        element.innerHTML = '';\n",
              "        dataTable['output_type'] = 'display_data';\n",
              "        await google.colab.output.renderOutput(dataTable, element);\n",
              "        const docLink = document.createElement('div');\n",
              "        docLink.innerHTML = docLinkHtml;\n",
              "        element.appendChild(docLink);\n",
              "      }\n",
              "    </script>\n",
              "  </div>\n",
              "\n",
              "\n",
              "<div id=\"df-903aa614-8b43-4cc3-82b7-9e839a6e86d1\">\n",
              "  <button class=\"colab-df-quickchart\" onclick=\"quickchart('df-903aa614-8b43-4cc3-82b7-9e839a6e86d1')\"\n",
              "            title=\"Suggest charts\"\n",
              "            style=\"display:none;\">\n",
              "\n",
              "<svg xmlns=\"http://www.w3.org/2000/svg\" height=\"24px\"viewBox=\"0 0 24 24\"\n",
              "     width=\"24px\">\n",
              "    <g>\n",
              "        <path d=\"M19 3H5c-1.1 0-2 .9-2 2v14c0 1.1.9 2 2 2h14c1.1 0 2-.9 2-2V5c0-1.1-.9-2-2-2zM9 17H7v-7h2v7zm4 0h-2V7h2v10zm4 0h-2v-4h2v4z\"/>\n",
              "    </g>\n",
              "</svg>\n",
              "  </button>\n",
              "\n",
              "<style>\n",
              "  .colab-df-quickchart {\n",
              "      --bg-color: #E8F0FE;\n",
              "      --fill-color: #1967D2;\n",
              "      --hover-bg-color: #E2EBFA;\n",
              "      --hover-fill-color: #174EA6;\n",
              "      --disabled-fill-color: #AAA;\n",
              "      --disabled-bg-color: #DDD;\n",
              "  }\n",
              "\n",
              "  [theme=dark] .colab-df-quickchart {\n",
              "      --bg-color: #3B4455;\n",
              "      --fill-color: #D2E3FC;\n",
              "      --hover-bg-color: #434B5C;\n",
              "      --hover-fill-color: #FFFFFF;\n",
              "      --disabled-bg-color: #3B4455;\n",
              "      --disabled-fill-color: #666;\n",
              "  }\n",
              "\n",
              "  .colab-df-quickchart {\n",
              "    background-color: var(--bg-color);\n",
              "    border: none;\n",
              "    border-radius: 50%;\n",
              "    cursor: pointer;\n",
              "    display: none;\n",
              "    fill: var(--fill-color);\n",
              "    height: 32px;\n",
              "    padding: 0;\n",
              "    width: 32px;\n",
              "  }\n",
              "\n",
              "  .colab-df-quickchart:hover {\n",
              "    background-color: var(--hover-bg-color);\n",
              "    box-shadow: 0 1px 2px rgba(60, 64, 67, 0.3), 0 1px 3px 1px rgba(60, 64, 67, 0.15);\n",
              "    fill: var(--button-hover-fill-color);\n",
              "  }\n",
              "\n",
              "  .colab-df-quickchart-complete:disabled,\n",
              "  .colab-df-quickchart-complete:disabled:hover {\n",
              "    background-color: var(--disabled-bg-color);\n",
              "    fill: var(--disabled-fill-color);\n",
              "    box-shadow: none;\n",
              "  }\n",
              "\n",
              "  .colab-df-spinner {\n",
              "    border: 2px solid var(--fill-color);\n",
              "    border-color: transparent;\n",
              "    border-bottom-color: var(--fill-color);\n",
              "    animation:\n",
              "      spin 1s steps(1) infinite;\n",
              "  }\n",
              "\n",
              "  @keyframes spin {\n",
              "    0% {\n",
              "      border-color: transparent;\n",
              "      border-bottom-color: var(--fill-color);\n",
              "      border-left-color: var(--fill-color);\n",
              "    }\n",
              "    20% {\n",
              "      border-color: transparent;\n",
              "      border-left-color: var(--fill-color);\n",
              "      border-top-color: var(--fill-color);\n",
              "    }\n",
              "    30% {\n",
              "      border-color: transparent;\n",
              "      border-left-color: var(--fill-color);\n",
              "      border-top-color: var(--fill-color);\n",
              "      border-right-color: var(--fill-color);\n",
              "    }\n",
              "    40% {\n",
              "      border-color: transparent;\n",
              "      border-right-color: var(--fill-color);\n",
              "      border-top-color: var(--fill-color);\n",
              "    }\n",
              "    60% {\n",
              "      border-color: transparent;\n",
              "      border-right-color: var(--fill-color);\n",
              "    }\n",
              "    80% {\n",
              "      border-color: transparent;\n",
              "      border-right-color: var(--fill-color);\n",
              "      border-bottom-color: var(--fill-color);\n",
              "    }\n",
              "    90% {\n",
              "      border-color: transparent;\n",
              "      border-bottom-color: var(--fill-color);\n",
              "    }\n",
              "  }\n",
              "</style>\n",
              "\n",
              "  <script>\n",
              "    async function quickchart(key) {\n",
              "      const quickchartButtonEl =\n",
              "        document.querySelector('#' + key + ' button');\n",
              "      quickchartButtonEl.disabled = true;  // To prevent multiple clicks.\n",
              "      quickchartButtonEl.classList.add('colab-df-spinner');\n",
              "      try {\n",
              "        const charts = await google.colab.kernel.invokeFunction(\n",
              "            'suggestCharts', [key], {});\n",
              "      } catch (error) {\n",
              "        console.error('Error during call to suggestCharts:', error);\n",
              "      }\n",
              "      quickchartButtonEl.classList.remove('colab-df-spinner');\n",
              "      quickchartButtonEl.classList.add('colab-df-quickchart-complete');\n",
              "    }\n",
              "    (() => {\n",
              "      let quickchartButtonEl =\n",
              "        document.querySelector('#df-903aa614-8b43-4cc3-82b7-9e839a6e86d1 button');\n",
              "      quickchartButtonEl.style.display =\n",
              "        google.colab.kernel.accessAllowed ? 'block' : 'none';\n",
              "    })();\n",
              "  </script>\n",
              "</div>\n",
              "    </div>\n",
              "  </div>\n"
            ]
          },
          "metadata": {},
          "execution_count": 43
        }
      ]
    },
    {
      "cell_type": "markdown",
      "source": [
        "마지막으로 train 데이터와 test 데이터까지 구축하면 SASRec 모델을 위한 data preprocessing 작업은 마무리됩니다.\n",
        "\n",
        "먼저 evaluation에 사용될 1000명의 유저 데이터를 미리 뽑아놓은 뒤, train-test split을 진행합니다. Sequential recommendaiotn 시나리오이기 때문에, 시간 순서로 정렬된 사용자의 아이템 시퀀스에서 마지막 아이템을 test 용도로, 나머지 아이템들을 train 용도로 사용합니다."
      ],
      "metadata": {
        "id": "W7St93KS2mrr"
      }
    },
    {
      "cell_type": "code",
      "source": [
        "num_item_sample = 100\n",
        "num_user_sample = 1000\n",
        "\n",
        "# 평가에 사용할 1000명의 사용자를 추출합니다.\n",
        "users_for_eval = np.random.choice(range(num_user), num_user_sample, replace=False)"
      ],
      "metadata": {
        "id": "DgCCeIFK28qj"
      },
      "execution_count": null,
      "outputs": []
    },
    {
      "cell_type": "code",
      "source": [
        "eval_dict = {i: 0 for i in users_for_eval}\n",
        "print (len(eval_dict))"
      ],
      "metadata": {
        "id": "i0wNtkMS3WVf",
        "colab": {
          "base_uri": "https://localhost:8080/"
        },
        "outputId": "7a096654-040b-46bf-88a9-5f8a6209a520"
      },
      "execution_count": null,
      "outputs": [
        {
          "output_type": "stream",
          "name": "stdout",
          "text": [
            "1000\n"
          ]
        }
      ]
    },
    {
      "cell_type": "code",
      "source": [
        "# 먼저 데이터에 user split을 적용합니다. (train user와 test user가 서로 disjoint set)\n",
        "# 가장 먼저 user별 시퀀스를 나누어서 저장하기 위한 defaultdict 객체들을 각각 선언합니다.\n",
        "# df_reviews 데이터프레임을 순회하면서\n",
        "# 각 user u가 eval_dict안에 포함되면, `users_eval`에 해당 시퀀스를 넣고\n",
        "# 그렇지 않으면 `users`에 넣어줍니다.\n",
        "\n",
        "# defaultdict은 dictionary의 key가 없을때 default 값을 value로 반환해 줍니다.\n",
        "users = defaultdict(list) # for trainining\n",
        "users_eval = defaultdict(list) # for evaluation\n",
        "\n",
        "for u, i, t in zip(df_review['user_idx'], df_review['book_idx'], df_review['timestamp']):\n",
        "    if u not in eval_dict:\n",
        "        users[u].append(i)\n",
        "    else:\n",
        "        users_eval[u].append(i)"
      ],
      "metadata": {
        "id": "35HHIApMF5YM"
      },
      "execution_count": null,
      "outputs": []
    },
    {
      "cell_type": "code",
      "source": [
        "# 학습셋과 평가셋의 사용자 별로 마지막 아이템을 test로, 나머지를 train으로 분리합니다.\n",
        "user_train = {}\n",
        "user_valid = {}\n",
        "user_eval_train = {}\n",
        "user_eval_test = {}\n",
        "\n",
        "# 이때 이미 sequence는 시간순으로 정렬된 상태임에 유의해주세요.\n",
        "for user in users:\n",
        "    user_train[user] = users[user][:-1]\n",
        "    user_valid[user] = [users[user][-1]]\n",
        "\n",
        "for user in users_eval:\n",
        "    user_eval_train[user] = users_eval[user][:-1]\n",
        "    user_eval_test[user] = [users_eval[user][-1]]"
      ],
      "metadata": {
        "id": "qjj_C1_zaaWB"
      },
      "execution_count": null,
      "outputs": []
    },
    {
      "cell_type": "markdown",
      "source": [
        "training과 evaluation을 위한 user 갯수가 잘 맞는지 확인해 줍니다.\n",
        "\n",
        "(# of user ids = # of user_train + # of user_eval_train)"
      ],
      "metadata": {
        "id": "S6MNBGMXAQYB"
      }
    },
    {
      "cell_type": "code",
      "source": [
        "print(f\"train user의 개수 {len(user_train)}와 test user 개수 {len(user_eval_train)}를 더하면 전체 user 수 {len(user_ids)}가 되어야 합니다.\")"
      ],
      "metadata": {
        "id": "BQKh8USn-Nkn",
        "colab": {
          "base_uri": "https://localhost:8080/"
        },
        "outputId": "40776030-8b65-428d-ab87-0671f3a149aa"
      },
      "execution_count": null,
      "outputs": [
        {
          "output_type": "stream",
          "name": "stdout",
          "text": [
            "train user의 개수 14451와 test user 개수 1000를 더하면 전체 user 수 15451가 되어야 합니다.\n"
          ]
        }
      ]
    },
    {
      "cell_type": "markdown",
      "source": [
        "User sequence가 잘 만들어졌는지 몇 개의 샘플을 통해 확인해봅니다."
      ],
      "metadata": {
        "id": "MH1D3GxrAbkB"
      }
    },
    {
      "cell_type": "code",
      "source": [
        "print (len(user_train), len(user_valid))\n",
        "print (len(user_train[1]), len(user_valid[1]))\n",
        "print (user_train[1])\n",
        "print (user_valid[1])\n",
        "\n",
        "print (len(user_train[5]), len(user_valid[5]))\n",
        "print (user_train[5])\n",
        "print (user_valid[5])"
      ],
      "metadata": {
        "id": "2LVvCLVrbPFQ",
        "colab": {
          "base_uri": "https://localhost:8080/"
        },
        "outputId": "a1791551-1424-4c63-90b3-cc70d8d940db"
      },
      "execution_count": null,
      "outputs": [
        {
          "output_type": "stream",
          "name": "stdout",
          "text": [
            "14451 14451\n",
            "575 1\n",
            "[658, 653, 652, 650, 649, 648, 647, 646, 644, 657, 643, 654, 642, 641, 645, 638, 635, 621, 622, 627, 611, 623, 631, 655, 632, 619, 620, 601, 617, 628, 633, 608, 626, 600, 613, 598, 637, 593, 597, 603, 599, 590, 624, 586, 587, 607, 615, 612, 640, 577, 604, 609, 576, 569, 570, 639, 567, 565, 580, 555, 575, 566, 594, 595, 636, 560, 564, 545, 544, 551, 538, 556, 563, 574, 579, 553, 549, 543, 534, 527, 524, 585, 602, 583, 537, 515, 605, 591, 511, 589, 539, 535, 548, 550, 532, 568, 504, 529, 518, 614, 498, 506, 494, 491, 513, 541, 490, 505, 530, 495, 486, 487, 514, 606, 501, 610, 484, 496, 517, 503, 499, 480, 492, 618, 478, 571, 477, 475, 489, 474, 540, 559, 471, 467, 596, 469, 465, 481, 523, 476, 508, 562, 581, 536, 519, 464, 502, 520, 616, 625, 531, 582, 500, 452, 473, 483, 448, 493, 466, 459, 546, 450, 552, 528, 445, 533, 482, 453, 436, 468, 561, 451, 479, 547, 440, 431, 457, 458, 572, 447, 430, 588, 455, 554, 419, 423, 463, 439, 443, 416, 435, 438, 420, 525, 427, 402, 410, 413, 433, 411, 437, 399, 421, 460, 396, 456, 408, 424, 454, 404, 497, 444, 516, 461, 522, 390, 407, 417, 400, 442, 393, 542, 422, 386, 418, 382, 377, 414, 557, 394, 405, 366, 380, 432, 629, 630, 388, 428, 389, 375, 368, 510, 509, 360, 374, 357, 354, 372, 373, 348, 409, 346, 365, 371, 376, 341, 339, 369, 470, 391, 412, 378, 367, 347, 395, 415, 331, 334, 403, 324, 326, 329, 340, 323, 351, 558, 385, 426, 358, 387, 321, 353, 316, 314, 355, 592, 361, 507, 337, 336, 342, 308, 305, 379, 472, 335, 330, 302, 343, 338, 425, 315, 299, 304, 384, 297, 434, 295, 311, 401, 307, 318, 286, 333, 381, 446, 290, 309, 398, 310, 521, 294, 364, 312, 292, 352, 278, 289, 275, 485, 284, 273, 272, 285, 274, 345, 281, 320, 350, 287, 300, 270, 293, 276, 280, 255, 264, 250, 322, 279, 362, 260, 269, 251, 256, 370, 263, 259, 253, 288, 247, 332, 246, 296, 242, 254, 245, 239, 258, 271, 266, 243, 325, 584, 291, 303, 356, 262, 328, 306, 359, 298, 228, 234, 327, 240, 406, 241, 282, 223, 231, 236, 261, 219, 244, 224, 277, 363, 230, 227, 237, 488, 301, 226, 252, 441, 207, 229, 211, 267, 201, 225, 233, 235, 214, 215, 349, 217, 195, 198, 218, 194, 265, 193, 317, 203, 216, 212, 397, 429, 220, 206, 205, 185, 196, 202, 249, 204, 210, 183, 186, 179, 392, 222, 178, 172, 170, 171, 209, 651, 165, 208, 238, 268, 168, 161, 162, 512, 191, 169, 313, 160, 174, 197, 189, 213, 155, 578, 152, 526, 149, 573, 3, 151, 344, 257, 158, 159, 157, 142, 144, 154, 221, 141, 140, 146, 145, 190, 163, 167, 184, 138, 173, 139, 180, 143, 187, 135, 188, 133, 150, 130, 132, 129, 124, 156, 449, 147, 126, 127, 164, 176, 120, 136, 134, 119, 137, 634, 118, 182, 114, 117, 383, 121, 200, 131, 111, 462, 107, 128, 192, 153, 122, 109, 99, 106, 181, 93, 116, 95, 91, 103, 101, 166, 248, 98, 319, 104, 105, 96, 123, 199, 94, 92, 100, 102, 110, 86, 89, 113, 175, 85, 283, 84, 108, 656, 125, 97, 90, 232, 87, 88, 148, 112, 177]\n",
            "[115]\n",
            "189 1\n",
            "[949, 951, 903, 898, 956, 944, 888, 891, 882, 886, 868, 866, 859, 890, 878, 855, 879, 839, 916, 836, 771, 864, 842, 941, 848, 892, 940, 847, 895, 850, 869, 887, 908, 930, 933, 787, 904, 958, 925, 831, 927, 954, 822, 905, 846, 849, 788, 896, 816, 814, 874, 871, 813, 761, 811, 844, 835, 826, 893, 901, 913, 856, 772, 785, 804, 731, 838, 837, 939, 875, 807, 764, 926, 918, 867, 797, 931, 929, 824, 861, 865, 906, 937, 821, 808, 897, 932, 832, 793, 641, 851, 827, 800, 873, 791, 902, 915, 863, 899, 830, 815, 957, 948, 877, 789, 812, 845, 955, 795, 794, 854, 884, 959, 796, 853, 825, 883, 909, 917, 880, 910, 852, 805, 818, 936, 817, 806, 792, 860, 27, 66, 693, 694, 755, 775, 784, 786, 809, 823, 829, 833, 834, 840, 843, 862, 870, 876, 881, 889, 894, 900, 907, 911, 919, 920, 921, 922, 923, 924, 935, 943, 945, 872, 810, 799, 798, 841, 790, 953, 819, 942, 950, 928, 802, 858, 801, 857, 934, 885, 912, 65, 947, 803, 774, 820, 938, 914, 946, 952]\n",
            "[828]\n"
          ]
        }
      ]
    },
    {
      "cell_type": "markdown",
      "source": [
        "## 3. SASRec Model\n",
        "```\n",
        "💡 목차 개요 : PyTorch로 SASRec 모델을 구현하고, 모델 학습 및 평가를 수행합니다.\n",
        "```\n",
        "* 3-1. Batch Sampling\n",
        "* 3-2. 모델 구현\n",
        "* 3-3. Model Training\n",
        "* 3-4. Model Evaluation\n"
      ],
      "metadata": {
        "id": "c-hqhAR2Apa2"
      }
    },
    {
      "cell_type": "markdown",
      "source": [
        "### 3-1. Batch Sampling\n",
        "> Negative sampling process을 포함하여 SASRec 모델에 사용될 batch 데이터를 생성합니다. Negative sampling은 모델이 사용자가 선호하지 않을 것으로 예상되는 item을 학습하는데 필요한 process로, 실습에서는 사용자가 읽지 않은 (rating을 남기지 않은) 책을 negativs sample로 간주하겠습니다."
      ],
      "metadata": {
        "id": "pymVUAB6EQHT"
      }
    },
    {
      "cell_type": "code",
      "source": [
        "# for training, data sampling\n",
        "def random_neg(l, r, s):\n",
        "    # 데이터에 존재하는 아이템과 겹치지 않도록 sampling\n",
        "    # l과 r 사이에서 무작위 정수를 선택합니다.\n",
        "    t = np.random.randint(l, r)\n",
        "\n",
        "    # 선택된 아이템이 사용자 sequence (s)에 이미 존재하는 경우 새로운 아이템 다시 샘플링\n",
        "    # 즉, 샘플된 아이템이 user sequence (s)에 포함되지 않는 것이 나올 때까지 (rating을 남기지 않은 것일때까지) 샘플링 반복\n",
        "    while t in s:\n",
        "        t = np.random.randint(l, r)\n",
        "\n",
        "    return t"
      ],
      "metadata": {
        "id": "3-55cYWEFt8U"
      },
      "execution_count": null,
      "outputs": []
    },
    {
      "cell_type": "code",
      "source": [
        "random_neg(1, 10, [2,4,6,8,10]) # 1부터 10까지의 정수 중 [2,4,6,8,10]을 제외한 홀수값만 샘플링됨"
      ],
      "metadata": {
        "colab": {
          "base_uri": "https://localhost:8080/"
        },
        "id": "v4TcsLXvOGJE",
        "outputId": "9180bc83-3444-4ec5-d6b8-63c182c3e814"
      },
      "execution_count": null,
      "outputs": [
        {
          "output_type": "execute_result",
          "data": {
            "text/plain": [
              "7"
            ]
          },
          "metadata": {},
          "execution_count": 53
        }
      ]
    },
    {
      "cell_type": "code",
      "source": [
        "# a = [1,2,3,4]\n",
        "# for i in reversed(a[:-1]):\n",
        "#   print(i)\n",
        "'''\n",
        "3\n",
        "2\n",
        "1\n",
        "'''"
      ],
      "metadata": {
        "colab": {
          "base_uri": "https://localhost:8080/",
          "height": 35
        },
        "id": "BjvN12cqQnwY",
        "outputId": "fd016942-5a74-42fa-8032-15e322ea91e0"
      },
      "execution_count": null,
      "outputs": [
        {
          "output_type": "execute_result",
          "data": {
            "text/plain": [
              "'\\n3\\n2\\n1\\n'"
            ],
            "application/vnd.google.colaboratory.intrinsic+json": {
              "type": "string"
            }
          },
          "metadata": {},
          "execution_count": 22
        }
      ]
    },
    {
      "cell_type": "code",
      "source": [
        "\n",
        "def sample_batch(user_train, num_user, num_item, batch_size, max_len):\n",
        "    # 개별 사용자에 대한 데이터 샘플링\n",
        "    def sample():\n",
        "        # 앞서 생성한 eval_dict에 없는 사용자를 무작위로 샘플링\n",
        "        while 1:\n",
        "            user = np.random.randint(num_user)\n",
        "            if user not in eval_dict:\n",
        "                break\n",
        "\n",
        "        # array 초기화\n",
        "        seq = np.zeros([max_len], dtype=np.int32) # 유저별 아이템 시퀀스\n",
        "        pos = np.zeros([max_len], dtype=np.int32) # positive ground-truth item\n",
        "        neg = np.zeros([max_len], dtype=np.int32) # sampled negative item\n",
        "        nxt = user_train[user][-1] # 해당 user sequence의 마지막 아이템을 nxt에 저장함\n",
        "        idx = max_len - 1 # idx는 max_len에서 1뺀 값으로 사용함\n",
        "\n",
        "        # 사용자의 item sequence를 역순으로 순회\n",
        "        train_item = set(user_train[user])\n",
        "        for i in reversed(user_train[user][:-1]): # 어차피 마지막 원소는 nxt에 지정되어 있으므로 빼고 순회함\n",
        "            '''\n",
        "            user_train[user]=[1,2,3,4], max_length=50 일때\n",
        "              nxt = 4, idx = 49\n",
        "              for문의 i는 3 -> 2 -> 1 (item_id) 순으로 순회함\n",
        "              따라서 seq[49] = 3, pos[49] = 4, neg[49] = 네거티브 샘플링된 값\n",
        "              이후, nxt에는 3가 할당되고, idx -= 1을 통해 idx = 48이 됨\n",
        "              즉, 길이 50의 시퀀스에 대해 for문을 돌면서, input에 대응하는 output을 끝에서부터 채우는 형태임\n",
        "\n",
        "            for문을 다 돌고 나면\n",
        "              seq = [0,0,0,...,1,2,3]\n",
        "              pos = [0,0,0,...,2,3,4]\n",
        "              neg = [0,0,0,...,42,123,230]\n",
        "            와 같이 채워지게 됨\n",
        "            '''\n",
        "            # 미리 정의된 sequence를 끝에서부터 역순으로 채움, ex: seq = [0,0,0,1,2,3] (0은 pad)\n",
        "            seq[idx] = i #\n",
        "            pos[idx] = nxt # 위에서 지정한 마지막 아이템이 positive item으로 지정됨\n",
        "            if nxt != 0:\n",
        "                neg[idx] = random_neg(1, num_item + 1, train_item) # negative sampling\n",
        "            nxt = i # 현재의 i를 (nxt 이전 값)을 다음의 nxt로 사용하도록 변경\n",
        "            idx -= 1 # idx도 한 스텝 진행시킴 (역순이므로 -1)\n",
        "            if idx == -1: break\n",
        "        return (user, seq, pos, neg)\n",
        "\n",
        "    # 배치 사이즈만큼 데이터 샘플링\n",
        "    user, seq, pos, neg = zip(*[sample() for _ in range(batch_size)])\n",
        "    user, seq, pos, neg = np.array(user), np.array(seq), np.array(pos), np.array(neg)\n",
        "    return user, seq, pos, neg"
      ],
      "metadata": {
        "id": "yo3RBjV_bRhc"
      },
      "execution_count": null,
      "outputs": []
    },
    {
      "cell_type": "markdown",
      "source": [
        "> sample_batch 함수는 일견 복잡해보이지만, 간단한 샘플 입력에 대해 각 변수들을 print()해보면 직관적으로 이해할 수 있습니다. seq라는 input에 pos라는 output이 한 스텝씩 shifted 되어서 입력되는 것은 다음의 SASRec 그림에서도 알 수 있습니다.\n",
        "\n",
        "\n",
        "<div align=\"center\">\n",
        "<img src=\"https://recbole.io/docs/_images/sasrec.png\" width=\"60%\">\n",
        "<figcaption>SASRec Architecture</figcaption>\n",
        "</div>\n",
        "\n",
        "#### 📚 자료:\n",
        "* [Self-Attentive Sequential Recommendation](https://arxiv.org/pdf/1808.09781.pdf)"
      ],
      "metadata": {
        "id": "SWcefE2TSkBs"
      }
    },
    {
      "cell_type": "markdown",
      "source": [
        "### 3-2. 모델 구현\n",
        "> Transformers를 이루는 ScaledDotProductAttention, MultiHeadAttention 및 PositionwiseFeedForward 클래스를 구현하는 부분은 워낙 널리 알려져 있는 부분이기 때문에 생략하고 넘어가도록 하겠습니다. 특히 MultiHeadAttention은 [`torch.nn.MultiheadAttention`](https://pytorch.org/docs/stable/generated/torch.nn.MultiheadAttention.html)과 같이 PyTorch 내부 함수로도 지원하기도 합니다. 이후에는 SASRec 블록 위주로 살펴보겠습니다."
      ],
      "metadata": {
        "id": "zokUyNSdCiGu"
      }
    },
    {
      "cell_type": "markdown",
      "source": [
        "* Scaled-Dot Product Attention 구현"
      ],
      "metadata": {
        "id": "QbrpWprANqRR"
      }
    },
    {
      "cell_type": "code",
      "source": [
        "class ScaledDotProductAttention(nn.Module):\n",
        "    def __init__(self, hidden_units, dropout_rate):\n",
        "        super(ScaledDotProductAttention, self).__init__()\n",
        "        self.hidden_units = hidden_units\n",
        "        self.dropout = nn.Dropout(dropout_rate)\n",
        "\n",
        "    def forward(self, Q, K, V, mask):\n",
        "        # ScaledDotProductAttention 점수 계산\n",
        "        attn_score = torch.matmul(Q, K.transpose(2, 3)) / math.sqrt(self.hidden_units)\n",
        "\n",
        "        # 마스킹된 위치의 score을 -1e9로 설정하여 softmax 통과 시 0이 되도록 합니다\n",
        "        attn_score = attn_score.masked_fill(mask == 0, -1e9)\n",
        "\n",
        "        # Attention distribution 계산 및 dropout 설정\n",
        "        attn_dist = self.dropout(F.softmax(attn_score, dim=-1))\n",
        "\n",
        "        # Attention 가중치와 value (V) 곱 계산\n",
        "        # dim of output : batchSize x num_head x seqLen x hidden_units\n",
        "        output = torch.matmul(attn_dist, V)\n",
        "\n",
        "        return output, attn_dist"
      ],
      "metadata": {
        "id": "pZFFXoGrc0z1"
      },
      "execution_count": null,
      "outputs": []
    },
    {
      "cell_type": "markdown",
      "source": [
        "* Multi-head Attention 구현"
      ],
      "metadata": {
        "id": "2g5Jk9uMNvm9"
      }
    },
    {
      "cell_type": "code",
      "source": [
        "class MultiHeadAttention(nn.Module):\n",
        "    def __init__(self, num_heads, hidden_units, dropout_rate):\n",
        "        super(MultiHeadAttention, self).__init__()\n",
        "        self.num_heads = num_heads # head 갯수\n",
        "        self.hidden_units = hidden_units\n",
        "\n",
        "        # linear transformation을 위한 가중치 정의\n",
        "        self.W_Q = nn.Linear(hidden_units, hidden_units, bias=False)\n",
        "        self.W_K = nn.Linear(hidden_units, hidden_units, bias=False)\n",
        "        self.W_V = nn.Linear(hidden_units, hidden_units, bias=False)\n",
        "        self.W_O = nn.Linear(hidden_units, hidden_units, bias=False)\n",
        "\n",
        "        # 앞서 정의한 ScaledDotProductAttention class를 통한 Attention layer 초기화\n",
        "        self.attention = ScaledDotProductAttention(hidden_units, dropout_rate)\n",
        "        self.dropout = nn.Dropout(dropout_rate)\n",
        "        self.layerNorm = nn.LayerNorm(hidden_units, 1e-6)\n",
        "\n",
        "    def forward(self, enc, mask):\n",
        "        residual = enc # residual connection을 위한 입력 저장\n",
        "        batch_size, seqlen = enc.size(0), enc.size(1)\n",
        "\n",
        "        # Query, Key, Value 계산\n",
        "        # num_head개의 head로 나누어 각기 다른 Linear projection을 통과시킵니다\n",
        "        Q = self.W_Q(enc).view(batch_size, seqlen, self.num_heads, self.hidden_units)\n",
        "        K = self.W_K(enc).view(batch_size, seqlen, self.num_heads, self.hidden_units)\n",
        "        V = self.W_V(enc).view(batch_size, seqlen, self.num_heads, self.hidden_units)\n",
        "\n",
        "        # multi-head attantion을 위한 transpose\n",
        "        Q, K, V = Q.transpose(1, 2), K.transpose(1, 2), V.transpose(1, 2)\n",
        "        output, attn_dist = self.attention(Q, K, V, mask)\n",
        "\n",
        "        # attention 결과 병합 및 최종 출력 계산\n",
        "        output = output.transpose(1, 2).contiguous().view(batch_size, seqlen, -1)\n",
        "        output = self.layerNorm(self.dropout(self.W_O(output)) + residual)\n",
        "        return output, attn_dist"
      ],
      "metadata": {
        "id": "z4B69nWkHilF"
      },
      "execution_count": null,
      "outputs": []
    },
    {
      "cell_type": "code",
      "source": [
        "class PositionwiseFeedForward(nn.Module):\n",
        "    def __init__(self, hidden_units, dropout_rate):\n",
        "        super(PositionwiseFeedForward, self).__init__()\n",
        "\n",
        "        self.W_1 = nn.Linear(hidden_units, hidden_units)\n",
        "        self.W_2 = nn.Linear(hidden_units, hidden_units)\n",
        "        self.dropout = nn.Dropout(dropout_rate)\n",
        "        self.layerNorm = nn.LayerNorm(hidden_units, 1e-6)\n",
        "\n",
        "    def forward(self, x):\n",
        "        # residual connextion을 위해 입력 미리 저장\n",
        "        residual = x\n",
        "        output = self.W_2(F.relu(self.dropout(self.W_1(x))))\n",
        "        output = self.layerNorm(self.dropout(output) + residual)\n",
        "        return output"
      ],
      "metadata": {
        "id": "M-XH5bgqc2gG"
      },
      "execution_count": null,
      "outputs": []
    },
    {
      "cell_type": "markdown",
      "source": [
        "* SASRec Block 및 SASRec Class 구현:\n",
        "다음으로 SASRec의 주요 구성 요소인 SASRec Block을 구현하겠습니다. SASRec Block은 multi-head attention와 위치 별 feedforward network를 포함합니다."
      ],
      "metadata": {
        "id": "BuF-ayBJJrbu"
      }
    },
    {
      "cell_type": "code",
      "source": [
        "class SASRecBlock(nn.Module):\n",
        "    # 레이어 초기화\n",
        "    def __init__(self, num_heads, hidden_units, dropout_rate):\n",
        "        super(SASRecBlock, self).__init__()\n",
        "        self.attention = MultiHeadAttention(num_heads, hidden_units, dropout_rate)\n",
        "        self.pointwise_feedforward = PositionwiseFeedForward(hidden_units, dropout_rate)\n",
        "\n",
        "    def forward(self, input_enc, mask):\n",
        "        # multi-head attention 레이어 통과\n",
        "        output_enc, attn_dist = self.attention(input_enc, mask)\n",
        "        output_enc = self.pointwise_feedforward(output_enc)\n",
        "        return output_enc, attn_dist"
      ],
      "metadata": {
        "id": "b0vn17Q_c9X5"
      },
      "execution_count": null,
      "outputs": []
    },
    {
      "cell_type": "code",
      "source": [
        "# SASRec은 위에서 구현한 SASRecBlock을 여러 층으로 쌓고 item_emb 및 pos_emb 등을 준비합니다.\n",
        "class SASRec(nn.Module):\n",
        "    def __init__(self, num_user, num_item, hidden_units, num_heads, num_layers, maxlen, dropout_rate, device):\n",
        "        super(SASRec, self).__init__()\n",
        "\n",
        "        self.num_user = num_user\n",
        "        self.num_item = num_item\n",
        "        self.hidden_units = hidden_units\n",
        "        self.num_heads = num_heads\n",
        "        self.num_layers = num_layers\n",
        "        self.device = device\n",
        "        # padding index를 포함한 item embedding 레이어\n",
        "        self.item_emb = nn.Embedding(num_item + 1, hidden_units, padding_idx=0)\n",
        "        # learnable postiional encoding -> position_embedding\n",
        "        self.pos_emb = nn.Embedding(maxlen, hidden_units)\n",
        "        self.dropout = nn.Dropout(dropout_rate)\n",
        "        self.emb_layernorm = nn.LayerNorm(hidden_units, eps=1e-6)\n",
        "\n",
        "        # SASRec 블록 (transformer 블록)을 여러 층으로 쌓습니다\n",
        "        self.blocks = nn.ModuleList([SASRecBlock(num_heads, hidden_units, dropout_rate) for _ in range(num_layers)])\n",
        "\n",
        "    # sequence의 특성 (item embedding, positional embedding) 추출 함수\n",
        "    # sequence를 item_emb을 통과시켜서 sequence embedding을 얻은 뒤, 이를 각 포지션 index에 대응하는 pos_emb을 더해줍니다.\n",
        "    # 이후 Dropout 및 LayerNorm을 적용합니다.\n",
        "    def feats(self, log_seqs):\n",
        "        seqs = self.item_emb(torch.LongTensor(log_seqs).to(self.device))\n",
        "        positions = np.tile(np.array(range(log_seqs.shape[1])), [log_seqs.shape[0], 1])\n",
        "        seqs += self.pos_emb(torch.LongTensor(positions).to(self.device))\n",
        "        seqs = self.emb_layernorm(self.dropout(seqs))\n",
        "\n",
        "        # 마스킹: padding된 부분을 마스킹합니다\n",
        "        # unsqueeze()를 통해 mask_pad와 mask_time의 차원을 맞춰줍니다\n",
        "        mask_pad = torch.BoolTensor(log_seqs > 0).unsqueeze(1).unsqueeze(1) # log_seqs=0인 경우 masking이 필요합니다. 해당 조건을 만족하는 mask를 구현\n",
        "        # sequence 순서를 고려한 마스킹 구현 (현재 시점에서 미래 시점의 정보를 보고 예측하는 leakage를 피하기 위함)\n",
        "        # 해당 mask는 causal attention mask라고도 하며, Transformer decoder에 사용됩니다.\n",
        "        mask_time = (1 - torch.triu(torch.ones((1, 1, seqs.size(1), seqs.size(1))), diagonal=1)).bool()\n",
        "        mask = (mask_pad & mask_time).to(self.device)\n",
        "        for block in self.blocks:\n",
        "            seqs, attn_dist = block(seqs, mask)\n",
        "        return seqs\n",
        "\n",
        "    # training에 사용되는 함수\n",
        "    def forward(self, log_seqs, pos_seqs, neg_seqs):\n",
        "        feats = self.feats(log_seqs)\n",
        "        pos_embs = self.item_emb(torch.LongTensor(pos_seqs).to(self.device))\n",
        "        neg_embs = self.item_emb(torch.LongTensor(neg_seqs).to(self.device))\n",
        "\n",
        "        pos_logits = (feats * pos_embs).sum(dim=-1)\n",
        "        neg_logits = (feats * neg_embs).sum(dim=-1)\n",
        "        return pos_logits, neg_logits\n",
        "\n",
        "    # evaluation에 사용되는 함수\n",
        "    def predict(self, log_seqs, item_indices):\n",
        "        final_feats = self.feats(log_seqs)[:, -1, :]\n",
        "        item_embs = self.item_emb(torch.LongTensor(item_indices).to(self.device))\n",
        "        logits = item_embs.matmul(final_feats.unsqueeze(-1)).squeeze(-1)\n",
        "        return logits"
      ],
      "metadata": {
        "id": "rU6FSXYHc-Va"
      },
      "execution_count": null,
      "outputs": []
    },
    {
      "cell_type": "code",
      "source": [
        "  example_seq = torch.tensor([[1,2,3,4]])\n",
        "  mask_pad = torch.BoolTensor(example_seq > 0).unsqueeze(1).unsqueeze(1)\n",
        "  mask_time = (1 - torch.triu(torch.ones((1, 1, example_seq.size(1), example_seq.size(1))), diagonal=1)).bool()\n",
        "  mask = (mask_pad & mask_time)\n",
        "  mask"
      ],
      "metadata": {
        "colab": {
          "base_uri": "https://localhost:8080/"
        },
        "id": "gyIvLIJUaGqO",
        "outputId": "b653394b-c6a9-4caa-ae47-1913f8f039d1"
      },
      "execution_count": null,
      "outputs": [
        {
          "output_type": "execute_result",
          "data": {
            "text/plain": [
              "tensor([[[[ True, False, False, False],\n",
              "          [ True,  True, False, False],\n",
              "          [ True,  True,  True, False],\n",
              "          [ True,  True,  True,  True]]]])"
            ]
          },
          "metadata": {},
          "execution_count": 54
        }
      ]
    },
    {
      "cell_type": "code",
      "source": [
        "'''\n",
        "ScaledDotProductAttention 클래스 구현 중...\n",
        "\n",
        "    # 마스킹된 위치의 score을 -1e9로 설정하여 softmax 통과 시 0이 되도록 합니다\n",
        "    attn_score = attn_score.masked_fill(mask == 0, -1e9)\n",
        "    ...\n",
        "\n",
        "    # Query와 Key의 행렬곱 연산 이후 이전 시점에 대해 이후 시점의 영향력을 배제하기\n",
        "    # 위한 Attention Masking을 수행합니다. 이는 이후 시점의 item에 해당하는 값들을\n",
        "    # 모두 0으로 마스킹함으로써 Value와의 행렬곱 연산에서 이후 시점들의 값을 반영하지 않도록 해줍니다.\n",
        "'''\n",
        "attn_score = torch.randn_like(mask.float())\n",
        "attn_score.masked_fill(mask==0, -1e9)"
      ],
      "metadata": {
        "colab": {
          "base_uri": "https://localhost:8080/"
        },
        "id": "3kParIubb3H5",
        "outputId": "61c535fe-10cd-4de8-fc2f-e1cad522cca3"
      },
      "execution_count": null,
      "outputs": [
        {
          "output_type": "execute_result",
          "data": {
            "text/plain": [
              "tensor([[[[ 7.6532e-01, -1.0000e+09, -1.0000e+09, -1.0000e+09],\n",
              "          [-8.3982e-01,  8.7288e-01, -1.0000e+09, -1.0000e+09],\n",
              "          [-7.5211e-01,  5.4127e-01, -2.1073e-01, -1.0000e+09],\n",
              "          [-1.9752e-02, -4.4853e-01, -1.3245e+00,  7.3228e-01]]]])"
            ]
          },
          "metadata": {},
          "execution_count": 30
        }
      ]
    },
    {
      "cell_type": "markdown",
      "source": [
        "> 아래의 직관적인 예시 그림을 통해 현재 시점 이후의 token들은 모두 mask를 써서 다음 값의 예측에 사용되지 않도록 할 수 있음을 알 수 있습니다.\n",
        "\n",
        "\n",
        "  <img src=\"https://velog.velcdn.com/images%2Fseven7724%2Fpost%2Ff1f1daf0-9723-4c32-b96e-6a4664bbcb7e%2F%E1%84%89%E1%85%B3%E1%84%8F%E1%85%B3%E1%84%85%E1%85%B5%E1%86%AB%E1%84%89%E1%85%A3%E1%86%BA%202021-11-08%20%E1%84%8B%E1%85%A9%E1%84%8C%E1%85%A5%E1%86%AB%207.00.25.png\">\n",
        "\n",
        "  <img src=\"https://velog.velcdn.com/images%2Fseven7724%2Fpost%2F9d39b43e-f342-487c-9ae6-288becb84e79%2F%E1%84%89%E1%85%B3%E1%84%8F%E1%85%B3%E1%84%85%E1%85%B5%E1%86%AB%E1%84%89%E1%85%A3%E1%86%BA%202021-11-08%20%E1%84%8B%E1%85%A9%E1%84%8C%E1%85%A5%E1%86%AB%207.00.34.png\">\n",
        "\n",
        "  <img src=\"https://velog.velcdn.com/images%2Fseven7724%2Fpost%2F9e9d96db-4ebb-4caa-a82b-3d5aa9d63a76%2F%E1%84%89%E1%85%B3%E1%84%8F%E1%85%B3%E1%84%85%E1%85%B5%E1%86%AB%E1%84%89%E1%85%A3%E1%86%BA%202021-11-08%20%E1%84%8B%E1%85%A9%E1%84%8C%E1%85%A5%E1%86%AB%207.00.41.png\">\n",
        "\n",
        "#### 📚 자료:\n",
        "* [Transformer 관련 블로그 리뷰](https://velog.io/@seven7724/TransformerAttention-Is-All-You-Need)\n",
        "\n"
      ],
      "metadata": {
        "id": "hks7YJTOcwGf"
      }
    },
    {
      "cell_type": "markdown",
      "source": [
        "### 3-3. Model Training\n",
        ">"
      ],
      "metadata": {
        "id": "TUHEl0Q1Ctt_"
      }
    },
    {
      "cell_type": "markdown",
      "source": [
        "* 학습에 필요한 하이퍼파라미터 세팅"
      ],
      "metadata": {
        "id": "6CDkOH-LNlln"
      }
    },
    {
      "cell_type": "code",
      "source": [
        "# hyperparameter setting\n",
        "max_len = 50\n",
        "hidden_units = 50\n",
        "num_heads = 1\n",
        "num_layers = 2\n",
        "dropout_rate=0.5\n",
        "num_workers = 1\n",
        "device = 'cuda'\n",
        "\n",
        "# training setting\n",
        "lr = 1e-3\n",
        "num_epochs = 10\n",
        "\n",
        "batch_size = 128\n",
        "num_batch = num_user // batch_size"
      ],
      "metadata": {
        "id": "QvOd_mx3dEfP"
      },
      "execution_count": null,
      "outputs": []
    },
    {
      "cell_type": "markdown",
      "source": [
        "* 손실 함수 및 옵티마이저 설정"
      ],
      "metadata": {
        "id": "UMitrrjINMsW"
      }
    },
    {
      "cell_type": "code",
      "source": [
        "# model instance 생성\n",
        "model = SASRec(num_user, num_item, hidden_units, num_heads, num_layers, max_len, dropout_rate, device)\n",
        "model.to(device)\n",
        "\n",
        "# 손실 함수 정의: Binary Cross-Entropy Loss를 통해 실제 상호작용과 예측값 간의 차이를 계산합니다\n",
        "criterion = torch.nn.BCEWithLogitsLoss()\n",
        "\n",
        "# 최적화 함수 정의\n",
        "optimizer = torch.optim.Adam(model.parameters(), lr=lr)"
      ],
      "metadata": {
        "id": "0fpshfFIc_ky"
      },
      "execution_count": null,
      "outputs": []
    },
    {
      "cell_type": "markdown",
      "source": [
        "* 모델 학습:\n",
        "모델을 학습하고, 손실이 잘 떨어지는지 관찰합니다. 필요에 따라, epoch 등을 조절합니다."
      ],
      "metadata": {
        "id": "aBcqrLdcOCwj"
      }
    },
    {
      "cell_type": "code",
      "source": [
        "# Model training loop\n",
        "# 각 epoch에서 num_batch만큼의 배치를 처리합니다\n",
        "for epoch in range(1, num_epochs + 1):\n",
        "    tbar = tqdm(range(num_batch))\n",
        "    for step in tbar:\n",
        "        # sample_batch 함수를 통해 사용자, 아이템 sequence, postive 및 negative 샘플을 받습니다\n",
        "        user, seq, pos, neg = sample_batch(user_train, num_user, num_item, batch_size, max_len)\n",
        "\n",
        "        # positive 및 negative sample에 대한 logit 출력\n",
        "        pos_logits, neg_logits = model(seq, pos, neg)\n",
        "        # positive는 1, negavite는 0으로 레이블링\n",
        "        pos_labels, neg_labels = torch.ones(pos_logits.shape, device=device), torch.zeros(neg_logits.shape, device=device)\n",
        "\n",
        "        optimizer.zero_grad()\n",
        "        # padding되지 않은 부분에 대해서만 손실 계산\n",
        "        indices = np.where(pos != 0)\n",
        "        # BCE를 통한 손실 계산\n",
        "        loss = criterion(pos_logits[indices], pos_labels[indices])\n",
        "        loss += criterion(neg_logits[indices], neg_labels[indices])\n",
        "\n",
        "        loss.backward()\n",
        "        optimizer.step()\n",
        "\n",
        "        tbar.set_description(f'Epoch: {epoch:3d}| Step: {step:3d}| Train loss: {loss:.5f}')"
      ],
      "metadata": {
        "id": "tVb5bqpZdOhX",
        "colab": {
          "base_uri": "https://localhost:8080/"
        },
        "outputId": "20574f39-e39c-430a-f0ae-945f9b574025"
      },
      "execution_count": null,
      "outputs": [
        {
          "output_type": "stream",
          "name": "stderr",
          "text": [
            "Epoch:   1| Step: 119| Train loss: 4.29079: 100%|██████████| 120/120 [00:04<00:00, 25.69it/s]\n",
            "Epoch:   2| Step: 119| Train loss: 2.97307: 100%|██████████| 120/120 [00:04<00:00, 28.82it/s]\n",
            "Epoch:   3| Step: 119| Train loss: 2.12340: 100%|██████████| 120/120 [00:05<00:00, 23.52it/s]\n",
            "Epoch:   4| Step: 119| Train loss: 1.68599: 100%|██████████| 120/120 [00:04<00:00, 27.53it/s]\n",
            "Epoch:   5| Step: 119| Train loss: 1.47507: 100%|██████████| 120/120 [00:04<00:00, 28.96it/s]\n",
            "Epoch:   6| Step: 119| Train loss: 1.43633: 100%|██████████| 120/120 [00:05<00:00, 22.93it/s]\n",
            "Epoch:   7| Step: 119| Train loss: 1.38005: 100%|██████████| 120/120 [00:04<00:00, 28.67it/s]\n",
            "Epoch:   8| Step: 119| Train loss: 1.35354: 100%|██████████| 120/120 [00:04<00:00, 28.55it/s]\n",
            "Epoch:   9| Step: 119| Train loss: 1.31002: 100%|██████████| 120/120 [00:05<00:00, 22.90it/s]\n",
            "Epoch:  10| Step: 119| Train loss: 1.28529: 100%|██████████| 120/120 [00:04<00:00, 28.83it/s]\n"
          ]
        }
      ]
    },
    {
      "cell_type": "markdown",
      "source": [
        "### 3-4. Model Evaluation\n",
        "> 마지막으로, 앞전에 미리 뽑아둔 평가를 위한 1000개의 user data를 사용하여 학습된 모델을 평가하겠습니다. 평가 지표로는 랭킹 기반인 NDCG와 HIT을 사용합니다.\n",
        "\n",
        "> Hit Rate (HR)@K 또는 Hit@K는 전체 사용자 수 대비 적중한 사용자의 수를 의미합니다 (적중률). 보통 사용자 별로 ground-truth 아이템을 1개만 남겨둔 Leave One Last 분할 전략에서 주로 사용됩니다 (아이템 1개를 맞췄는지 못 맞췄는지는 명확하므로). 즉, 사용자 별로 K개의 아이템을 추천했을 때, ground-truth 아이템을 포함하고 있다면 `hit=1`, 아니면 `hit=0`을 할당하고, 해당 `hit` 값을 사용자 별로 평균냄으로써 Hit@K를 얻을 수 있습니다."
      ],
      "metadata": {
        "id": "gi3_H5_HOE00"
      }
    },
    {
      "cell_type": "code",
      "source": [
        "num_item_sample = 100\n",
        "model.eval()\n",
        "\n",
        "NDCG = 0.0 # NDCG@10\n",
        "HIT = 0.0 # Hit Rate@10\n",
        "\n",
        "for u in users_eval:\n",
        "    seq = user_eval_train[u][-max_len:]\n",
        "    rated = set(user_eval_train[u] + user_eval_test[u])\n",
        "    # uniform-sampled-based ranking evaluation을 위해 사용자 별로 100개의 negative item을 샘플합니다.\n",
        "    # 이 부분을 학습에 사용되는 부분과 헷갈리시는 분들이 계십니다. 동일한 로직이지만 사용 목적이 미묘하게 다릅니다.\n",
        "    # 학습 시에는 매 번 positive item에 대응하는 contrastive loss를 만들기 위해서 사용됩니다.\n",
        "    # 평가 시에는 모든 item에 대한 scoring-ranking이 오래 걸리기 때문에, 빠른 평가를 위해서 사용자 별로 negative item을 미리 샘플해둔 채로 사용합니다.\n",
        "    # 그리고 미리 준비한 유저 별 1개의 ground-truth 아이템 이를 합친 뒤에 평가 메트릭을 계산합니다.\n",
        "    # (e.g., candidate_items = one_gt_item + sampled_negative_items)\n",
        "    item_idx = user_eval_test[u] + [random_neg(1, num_item + 1, rated) for _ in range(num_item_sample)]\n",
        "\n",
        "    with torch.no_grad():\n",
        "        predictions = -model.predict(np.array([seq]), np.array(item_idx))\n",
        "        predictions = predictions[0]\n",
        "        rank = predictions.argsort().argsort()[0].item()\n",
        "\n",
        "    # 평가할 아이템이 상위 10개에 있는지 확인\n",
        "    if rank < 10: # at 10\n",
        "        NDCG += 1 / np.log2(rank + 2)\n",
        "        HIT += 1\n",
        "\n",
        "# 최종 성능 출력\n",
        "print(f'NDCG@10: {NDCG/num_user_sample}| HR@10: {HIT/num_user_sample}')"
      ],
      "metadata": {
        "id": "s2GCSrOD-kiV",
        "colab": {
          "base_uri": "https://localhost:8080/"
        },
        "outputId": "092ddb31-53e4-43d0-f29b-245e68fae89e"
      },
      "execution_count": null,
      "outputs": [
        {
          "output_type": "stream",
          "name": "stdout",
          "text": [
            "NDCG@10: 0.19871610420844518| HR@10: 0.344\n"
          ]
        }
      ]
    },
    {
      "cell_type": "markdown",
      "source": [
        "## 4. 마치며\n",
        "이번 실습에서는 먼저 sequential data를 처리하는 기법에 대해 이해해보고, SASRec 모델을 실제 GoodReads 데이터에 적용하여 사용자의 이전 상호작용을 기반으로 한 next item prediction을 직접 구현해 보았습니다. Vanilla transformers를 기반으로 하는 비교적 간단한 sequential recommendation 모델인 SASRec 모델 구현 실습 경험이 앞으로 보다 복잡한 sequential recommendation 모델들을 구현하는 데 기초가 되기를 바랍니다.\n"
      ],
      "metadata": {
        "id": "l8FLgDqmwWOT"
      }
    },
    {
      "cell_type": "markdown",
      "source": [
        "## References\n",
        "\n",
        "- [Self-Attentive Sequential Recommendation](https://arxiv.org/pdf/1808.09781.pdf)\n",
        "- [Attnetion Is All You Need](https://arxiv.org/abs/1706.03762)\n",
        "- [SASRec Official Implementation](https://github.com/kang205/SASRec)\n",
        "- [PyTorch 기반의 SASRec 구현](https://github.com/pmixer/SASRec.pytorch)\n",
        "- [Transformer 관련 블로그 리뷰](https://velog.io/@seven7724/TransformerAttention-Is-All-You-Need)"
      ],
      "metadata": {
        "id": "_o1QnEUaJW84"
      }
    },
    {
      "cell_type": "markdown",
      "source": [
        "## Required Package\n",
        "\n",
        "- tqdm==4.66.1\n",
        "- numpy==1.23.5\n",
        "- torch==2.1.0+cu121\n",
        "- pandas==1.5.3"
      ],
      "metadata": {
        "id": "Ys7XDHtn4Njp"
      }
    },
    {
      "cell_type": "markdown",
      "source": [
        "## 콘텐츠 라이선스\n",
        "\n",
        "저작권 : <font color='blue'> <b> ©2023 by Upstage X fastcampus Co., Ltd. All rights reserved.</font></b>\n",
        "\n",
        "<font color='red'><b>WARNING</font> : 본 교육 콘텐츠의 지식재산권은 업스테이지 및 패스트캠퍼스에 귀속됩니다. 본 콘텐츠를 어떠한 경로로든 외부로 유출 및 수정하는 행위를 엄격히 금합니다. </b>"
      ],
      "metadata": {
        "id": "_u9BcexKb2YN"
      }
    }
  ]
}