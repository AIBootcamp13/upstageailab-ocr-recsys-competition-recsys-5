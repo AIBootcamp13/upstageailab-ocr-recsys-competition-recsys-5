{
 "cells": [
  {
   "cell_type": "code",
   "execution_count": null,
   "id": "a1a22695",
   "metadata": {},
   "outputs": [],
   "source": [
    "# 라이브러리 임포트\n",
    "import logging\n",
    "from logging import getLogger\n",
    "from recbole.quick_start import run_recbole\n",
    "from recbole.quick_start.quick_start import load_data_and_model\n",
    "from recbole.trainer import Trainer\n",
    "from recbole.utils.case_study import full_sort_scores\n",
    "from recbole.utils.case_study import full_sort_topk\n",
    "from recbole.utils import init_seed, init_logger\n",
    "from recbole.config import Config\n",
    "from recbole.data import create_dataset, data_preparation\n",
    "from recbole.model.sequential_recommender import GRU4Rec\n",
    "import pandas as pd\n",
    "import gdown\n",
    "import gzip\n",
    "import json\n"
   ]
  }
 ],
 "metadata": {
  "language_info": {
   "name": "python"
  }
 },
 "nbformat": 4,
 "nbformat_minor": 5
}
